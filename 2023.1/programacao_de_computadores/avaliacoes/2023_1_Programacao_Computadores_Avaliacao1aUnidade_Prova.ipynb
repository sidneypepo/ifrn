{
  "nbformat": 4,
  "nbformat_minor": 0,
  "metadata": {
    "colab": {
      "provenance": []
    },
    "kernelspec": {
      "name": "python3",
      "display_name": "Python 3"
    }
  },
  "cells": [
    {
      "cell_type": "markdown",
      "source": [
        "**Professor:** Galileu Batista  \n",
        "**Aluno:** Sidney Pedro\n",
        "\n",
        "---"
      ],
      "metadata": {
        "id": "oet0DoTy6efi"
      }
    },
    {
      "cell_type": "markdown",
      "source": [
        "1. O dia 01/jan/2000 caiu em um sábado. Os anos bissextos são aqueles múltiplos de 400 ou múltiplos de 4 que não são múltiplos de 100. Faça um programa que lê um dia, um mês e um ano e informa quantas sextas-feiras já existiram desde 01/jan/2000 até a data.\n",
        "\n",
        "    Obs: Não há necessidade de verifcar se a data está correta. Uso de bibliotecas não é permitido.  \n",
        "\n",
        "40 - Não considera os anos anteriores à data solicitada como bissextos ou não"
      ],
      "metadata": {
        "id": "q0rTkbU30SwG"
      }
    },
    {
      "cell_type": "code",
      "execution_count": null,
      "metadata": {
        "id": "7WjDecPv0RTU",
        "colab": {
          "base_uri": "https://localhost:8080/"
        },
        "outputId": "bedfd2f5-70ba-4eb9-df41-8ded44b125a8"
      },
      "outputs": [
        {
          "output_type": "stream",
          "name": "stdout",
          "text": [
            "Digite um ano: 2000\n",
            "Digite um mês do ano 2000: 01\n",
            "Digite um dia do mês 01 do ano 2000: 04\n",
            "\n",
            "Do dia 01/01/2000 até o dia 04/01/2000 há 00 sextas-feiras.\n"
          ]
        }
      ],
      "source": [
        "# Coloque sua resposta aqui\n",
        "\n",
        "# Obtendo um ano válido\n",
        "valido = False\n",
        "while (not valido):\n",
        "    ano = int(input(\"Digite um ano: \"))\n",
        "    if (ano >= 2000):\n",
        "        valido = True\n",
        "    else:\n",
        "        print(\"Digite um ano válido!\\n\")\n",
        "\n",
        "# Obtendo um mês válido\n",
        "valido = False\n",
        "while (not valido):\n",
        "    mes = int(input(f\"Digite um mês do ano {ano}: \"))\n",
        "    if (mes >= 1 and mes <= 12):\n",
        "        valido = True\n",
        "    else:\n",
        "        print(\"Digite um mês válido!\\n\")\n",
        "\n",
        "# Obtendo um dia válido\n",
        "valido = False\n",
        "while (not valido):\n",
        "    dia = int(input(f\"Digite um dia do mês {mes:02d} do ano {ano}: \"))\n",
        "    if (dia >= 1 and dia <= 31):\n",
        "        valido = True\n",
        "    else:\n",
        "        print(\"Digite um dia válido!\\n\")\n",
        "\n",
        "# Calculando diferença de anos entre o ano digitado e 2000\n",
        "diferenca_anos = ano - 2000\n",
        "# Se o resto da divisão do ano obtido por 4 ou 400 for 0 e não for um\n",
        "# múltiplo de 100, então é um ano bissexto, se não, não é um ano bissexto.\n",
        "# Se for bissexto e o mês for maior que 2, multiplica-se o resultado da\n",
        "# diferença de anos por 366, se não, por 365, para contar quantos dias se\n",
        "# passaram na diferença de anos\n",
        "if (((ano % 4 == 0 or ano % 400 == 0) and ano % 100 != 0) and mes > 2):\n",
        "    dias_anos = diferenca_anos * 366\n",
        "else:\n",
        "    dias_anos = diferenca_anos * 365\n",
        "\n",
        "# Calculando diferença de meses entre o mês digitado e 1, então o resultado\n",
        "# é multiplicado por 31 para contar quantos dias se passaram na diferença\n",
        "# de meses\n",
        "diferenca_meses = mes - 1\n",
        "dias_meses = diferenca_meses * 31\n",
        "\n",
        "# Calculando total de dias passados\n",
        "total_dias = dias_anos + dias_meses + dia\n",
        "\n",
        "# Apresentando quantos sextas-feiras existem entre 01/01/2000 e a data\n",
        "# fornecida, por dividir o total de dias descoberto por 7\n",
        "print(f\"\\nDo dia 01/01/2000 até o dia {dia:02d}/{mes:02d}/{ano:04d} há {total_dias // 7:02d} sextas-feiras.\")"
      ]
    },
    {
      "cell_type": "markdown",
      "source": [
        "3. Um robô varredor doméstico pode ser programado para limpar um cômodo por meio de movimentos a partir de um ponto inicial no plano cartesiano. Faça um programa que simula o comportamento de um desses robôs.\n",
        "> * Considere que o robô está iniciamente colocado no ponto (0,0) do plano cartesiano; <br>\n",
        "> * Gere 100 movimentos aleatórios para  o robô, conforme a lista dos possíveis movimentos a seguir;<br>\n",
        "> * Desenhe todos os pontos por onde o robô passa\n",
        " no plano cartesiano (considerando os movimentos gerados), usando a biblioteca matplotlib; <br>\n",
        "> * Escolha uma cor para cada tipo de movimento; <br>\n",
        "> * Limite os movimentos do robô ao retângulo delimitado por (-30, -40) e (70, 60)\n",
        "> * Ao final, exiba o ponto atual e a distância total percorrida pelo robô, após os movimentos.\n",
        "\n",
        "> Movimentos: <br>\n",
        "> **1** - para frente (soma 1 em y0); <br>\n",
        "> **2** - para trás (diminiu 1 em y0); <br>\n",
        "> **3** - para direita (soma 1 em x0); <br>\n",
        "> **4** - para esquerda (diminiu 1 em x0);<br>\n",
        "\n",
        "> Dica: o código comentado a seguir desenha dois pontos no plano cartesiano, complemente-o para responder à questão.\n",
        "\n",
        "50 - OK. Simples e correto"
      ],
      "metadata": {
        "id": "JEwLM2KaCA2o"
      }
    },
    {
      "cell_type": "code",
      "source": [
        "import matplotlib.pyplot as plt\n",
        "import random\n",
        "\n",
        "plt.axis((-30, 70, -40, 60))\n",
        "\n",
        "# Desenha um ponto vermelho (r)ed na posição (1,1)\n",
        "plt.plot((1), (1), \"r.\")\n",
        "# Desenha um ponto azul (b)lue na posição (10,20)\n",
        "plt.plot((10), (20), \"b.\")\n",
        "# Desenha uma linha amarela (y)ellow entre os pontos (-5, 20) e (30, 10)\n",
        "plt.plot((-5, 30), (20, 10), \"y\")\n",
        "\n",
        "# Complemente a sua resposta aqui\n",
        "\n",
        "# Declarando cores utilizadas para cada movimento do robô\n",
        "frente = \"#F0F\" # Magenta\n",
        "tras = \"#0FF\" # Ciano\n",
        "direita = \"#FF0\" # Amarelo\n",
        "esquerda = \"#0F0\" # Verde\n",
        "\n",
        "# Inicializando variáveis para armazenar as posições x e y e inserindo\n",
        "# posição inicial do robô (0, 0)\n",
        "x = 0\n",
        "y = 0\n",
        "plt.plot(x, y, \"k.\")\n",
        "\n",
        "# Movendo o robô 100 vezes\n",
        "movimento = 1\n",
        "while (movimento <= 100):\n",
        "    # Gerando número aleatório entre 1 e 4\n",
        "    aleatorio = random.randint(1, 4)\n",
        "\n",
        "    # Movendo o robô (e contabilizando movimentos) de acordo com o número\n",
        "    # aleatório gerado se o robô não ultrapassar o retângulo (-30, -40) e (70, 60)\n",
        "    if (aleatorio == 1 and y < 60):\n",
        "        y += 1\n",
        "        plt.plot(x, y, \".\", color=frente)\n",
        "        movimento += 1\n",
        "    elif (aleatorio == 2 and y > -40):\n",
        "        y -= 1\n",
        "        plt.plot(x, y, \".\", color=tras)\n",
        "        movimento += 1\n",
        "    elif (aleatorio == 3 and x < 70):\n",
        "        x += 1\n",
        "        plt.plot(x, y, \".\", color=direita)\n",
        "        movimento += 1\n",
        "    elif (aleatorio == 4 and x > -30):\n",
        "        x -= 1\n",
        "        plt.plot(x, y, \".\", color=esquerda)\n",
        "        movimento += 1\n",
        "\n",
        "# Inserindo ponto na posição atual do robô e plotando gráfico final\n",
        "plt.plot(x, y, \"k.\")\n",
        "plt.show()\n",
        "\n",
        "# Apresentando posição atual do robô e a distância percorrida por ele\n",
        "print(f\"\\n* Ponto atual\\n- x = {x};\\n- y = {y};\\n* Distância total percorrida: {movimento}\")"
      ],
      "metadata": {
        "id": "-9CMxnYpFLDZ",
        "colab": {
          "base_uri": "https://localhost:8080/",
          "height": 524
        },
        "outputId": "e4019be6-4d59-448c-cfe0-274a71832450"
      },
      "execution_count": null,
      "outputs": [
        {
          "output_type": "display_data",
          "data": {
            "text/plain": [
              "<Figure size 640x480 with 1 Axes>"
            ],
            "image/png": "[encoded data removed]"
          },
          "metadata": {}
        },
        {
          "output_type": "stream",
          "name": "stdout",
          "text": [
            "\n",
            "* Ponto atual\n",
            "- x = 15;\n",
            "- y = 14;\n",
            "* Distância total percorrida: 100\n"
          ]
        }
      ]
    }
  ]
}