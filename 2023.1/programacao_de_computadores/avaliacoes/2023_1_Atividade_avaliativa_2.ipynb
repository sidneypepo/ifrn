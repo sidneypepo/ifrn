{
  "nbformat": 4,
  "nbformat_minor": 0,
  "metadata": {
    "colab": {
      "provenance": []
    },
    "kernelspec": {
      "name": "python3",
      "display_name": "Python 3"
    }
  },
  "cells": [
    {
      "cell_type": "markdown",
      "source": [
        "Atividade Avaliativa de Programação de Computadores\n",
        "\n",
        "**Professor:** Galileu Batista  \n",
        "**Aluno:** Sidney Pedro\n",
        "\n",
        "---"
      ],
      "metadata": {
        "id": "R3UTZOszCary"
      }
    },
    {
      "cell_type": "markdown",
      "metadata": {
        "id": "4pJSrHVLGrhL"
      },
      "source": [
        "1. Faça um programa que recebe um número e o apresenta na ordem inversa. **Não utilize strings**.  Exemplos:\n",
        "    * se o usuário digitar 123, o programa deve apresentar 321\n",
        "    * se o usuário digitar 78932, o programa deve apresentar 23987.\n",
        "\n",
        "10 - OK. Mais complexo do que o necessário"
      ]
    },
    {
      "cell_type": "code",
      "metadata": {
        "id": "gd-FRbhjGqsJ",
        "colab": {
          "base_uri": "https://localhost:8080/"
        },
        "outputId": "cb5375db-dab8-4285-fe53-234ab05e6743"
      },
      "source": [
        "# Cole aqui o código que resolve a questão 1\n",
        "\n",
        "# Obtendo número do usuário\n",
        "numero = int(input(\"Digite um número: \"))\n",
        "\n",
        "# Copiando número original para variavel temporária e inicializando\n",
        "# variável para armazenar resultado da inversão\n",
        "temp = numero\n",
        "numero_final = 0\n",
        "\n",
        "# Extraindo os digitos do número original por meio do resto da divisão\n",
        "# do mesmo por 10 e somando-os à variável \"numero_final\"\n",
        "while (temp > 0):\n",
        "    numero_final += temp % 10\n",
        "    temp //= 10\n",
        "    if (temp > 0):\n",
        "        numero_final *= 10\n",
        "\n",
        "# Apresentando resultado da inversão\n",
        "print(f\"A inversão do número \\\"{numero}\\\" é \\\"{numero_final}\\\".\")"
      ],
      "execution_count": null,
      "outputs": [
        {
          "output_type": "stream",
          "name": "stdout",
          "text": [
            "Digite um número: 987654321\n",
            "A inversão do número \"987654321\" é \"123456789\".\n"
          ]
        }
      ]
    },
    {
      "cell_type": "markdown",
      "source": [
        "2.  Faça um programa para encontrar quantos pares de números primos, menores\n",
        "do que 10000, existem que são números ímpares consecutivos.\n",
        "\n",
        "    * Exemplo: Se considerarmos que o limite é 100, existem 8 pares: (3, 5), (5, 7),\n",
        "(11, 13), (17, 19), (29, 31), (41, 43), (59, 61), (71, 73).\n",
        "\n",
        "10 - OK. Mais complexo do que o necessário"
      ],
      "metadata": {
        "id": "WElHtbSpwQOs"
      }
    },
    {
      "cell_type": "code",
      "source": [
        "# Cole aqui o código que resolve a questão 2\n",
        "\n",
        "# Inicializando variáveis\n",
        "primo = 0 # Armazenará número que será testado\n",
        "numero_par = 1 # Armazenará se o primo encontrado é o primeio ou segundo do par\n",
        "quantidade_pares = 0 # Armazenará contagem\n",
        "divisores = 0 # Armazenará quantidade de divisores que um número possui\n",
        "\n",
        "# Testando todos os números até o 10000 para descobrir quais são primos\n",
        "while (primo < 10000):\n",
        "    primo += 1\n",
        "    for tentativa in range(1, primo + 1):\n",
        "        if (primo % tentativa == 0 and primo != 2):\n",
        "            divisores += 1\n",
        "\n",
        "    # Se o número testado for primo, é verificado se é o primeiro ou\n",
        "    # segundo item do par de primos e, se for o primeiro, contabiliza o par\n",
        "    if (divisores == 2):\n",
        "        if (numero_par == 1):\n",
        "            quantidade_pares += 1\n",
        "            par1 = primo\n",
        "            numero_par += 1\n",
        "        elif (numero_par == 2 and quantidade_pares > 1):\n",
        "            par2 = primo\n",
        "            print(f\", ({par1}, {par2})\", end='')\n",
        "            numero_par -= 1\n",
        "        elif (numero_par == 2 and quantidade_pares == 1):\n",
        "            par2 = primo\n",
        "            print(f\"({par1}, {par2})\", end='')\n",
        "            numero_par -= 1\n",
        "    divisores = 0\n",
        "\n",
        "# Apresentando a quantidade de pares de números primos\n",
        "print(f\"\\nA quantidade de pares de números primos ímpares até 10000 é {quantidade_pares}.\")"
      ],
      "metadata": {
        "id": "bmI8aHMOyGaz",
        "colab": {
          "base_uri": "https://localhost:8080/"
        },
        "outputId": "b5adb371-98ad-4294-cb70-93cdcb0e10ca"
      },
      "execution_count": null,
      "outputs": [
        {
          "output_type": "stream",
          "name": "stdout",
          "text": [
            "(3, 5), (7, 11), (13, 17), (19, 23), (29, 31), (37, 41), (43, 47), (53, 59), (61, 67), (71, 73), (79, 83), (89, 97), (101, 103), (107, 109), (113, 127), (131, 137), (139, 149), (151, 157), (163, 167), (173, 179), (181, 191), (193, 197), (199, 211), (223, 227), (229, 233), (239, 241), (251, 257), (263, 269), (271, 277), (281, 283), (293, 307), (311, 313), (317, 331), (337, 347), (349, 353), (359, 367), (373, 379), (383, 389), (397, 401), (409, 419), (421, 431), (433, 439), (443, 449), (457, 461), (463, 467), (479, 487), (491, 499), (503, 509), (521, 523), (541, 547), (557, 563), (569, 571), (577, 587), (593, 599), (601, 607), (613, 617), (619, 631), (641, 643), (647, 653), (659, 661), (673, 677), (683, 691), (701, 709), (719, 727), (733, 739), (743, 751), (757, 761), (769, 773), (787, 797), (809, 811), (821, 823), (827, 829), (839, 853), (857, 859), (863, 877), (881, 883), (887, 907), (911, 919), (929, 937), (941, 947), (953, 967), (971, 977), (983, 991), (997, 1009), (1013, 1019), (1021, 1031), (1033, 1039), (1049, 1051), (1061, 1063), (1069, 1087), (1091, 1093), (1097, 1103), (1109, 1117), (1123, 1129), (1151, 1153), (1163, 1171), (1181, 1187), (1193, 1201), (1213, 1217), (1223, 1229), (1231, 1237), (1249, 1259), (1277, 1279), (1283, 1289), (1291, 1297), (1301, 1303), (1307, 1319), (1321, 1327), (1361, 1367), (1373, 1381), (1399, 1409), (1423, 1427), (1429, 1433), (1439, 1447), (1451, 1453), (1459, 1471), (1481, 1483), (1487, 1489), (1493, 1499), (1511, 1523), (1531, 1543), (1549, 1553), (1559, 1567), (1571, 1579), (1583, 1597), (1601, 1607), (1609, 1613), (1619, 1621), (1627, 1637), (1657, 1663), (1667, 1669), (1693, 1697), (1699, 1709), (1721, 1723), (1733, 1741), (1747, 1753), (1759, 1777), (1783, 1787), (1789, 1801), (1811, 1823), (1831, 1847), (1861, 1867), (1871, 1873), (1877, 1879), (1889, 1901), (1907, 1913), (1931, 1933), (1949, 1951), (1973, 1979), (1987, 1993), (1997, 1999), (2003, 2011), (2017, 2027), (2029, 2039), (2053, 2063), (2069, 2081), (2083, 2087), (2089, 2099), (2111, 2113), (2129, 2131), (2137, 2141), (2143, 2153), (2161, 2179), (2203, 2207), (2213, 2221), (2237, 2239), (2243, 2251), (2267, 2269), (2273, 2281), (2287, 2293), (2297, 2309), (2311, 2333), (2339, 2341), (2347, 2351), (2357, 2371), (2377, 2381), (2383, 2389), (2393, 2399), (2411, 2417), (2423, 2437), (2441, 2447), (2459, 2467), (2473, 2477), (2503, 2521), (2531, 2539), (2543, 2549), (2551, 2557), (2579, 2591), (2593, 2609), (2617, 2621), (2633, 2647), (2657, 2659), (2663, 2671), (2677, 2683), (2687, 2689), (2693, 2699), (2707, 2711), (2713, 2719), (2729, 2731), (2741, 2749), (2753, 2767), (2777, 2789), (2791, 2797), (2801, 2803), (2819, 2833), (2837, 2843), (2851, 2857), (2861, 2879), (2887, 2897), (2903, 2909), (2917, 2927), (2939, 2953), (2957, 2963), (2969, 2971), (2999, 3001), (3011, 3019), (3023, 3037), (3041, 3049), (3061, 3067), (3079, 3083), (3089, 3109), (3119, 3121), (3137, 3163), (3167, 3169), (3181, 3187), (3191, 3203), (3209, 3217), (3221, 3229), (3251, 3253), (3257, 3259), (3271, 3299), (3301, 3307), (3313, 3319), (3323, 3329), (3331, 3343), (3347, 3359), (3361, 3371), (3373, 3389), (3391, 3407), (3413, 3433), (3449, 3457), (3461, 3463), (3467, 3469), (3491, 3499), (3511, 3517), (3527, 3529), (3533, 3539), (3541, 3547), (3557, 3559), (3571, 3581), (3583, 3593), (3607, 3613), (3617, 3623), (3631, 3637), (3643, 3659), (3671, 3673), (3677, 3691), (3697, 3701), (3709, 3719), (3727, 3733), (3739, 3761), (3767, 3769), (3779, 3793), (3797, 3803), (3821, 3823), (3833, 3847), (3851, 3853), (3863, 3877), (3881, 3889), (3907, 3911), (3917, 3919), (3923, 3929), (3931, 3943), (3947, 3967), (3989, 4001), (4003, 4007), (4013, 4019), (4021, 4027), (4049, 4051), (4057, 4073), (4079, 4091), (4093, 4099), (4111, 4127), (4129, 4133), (4139, 4153), (4157, 4159), (4177, 4201), (4211, 4217), (4219, 4229), (4231, 4241), (4243, 4253), (4259, 4261), (4271, 4273), (4283, 4289), (4297, 4327), (4337, 4339), (4349, 4357), (4363, 4373), (4391, 4397), (4409, 4421), (4423, 4441), (4447, 4451), (4457, 4463), (4481, 4483), (4493, 4507), (4513, 4517), (4519, 4523), (4547, 4549), (4561, 4567), (4583, 4591), (4597, 4603), (4621, 4637), (4639, 4643), (4649, 4651), (4657, 4663), (4673, 4679), (4691, 4703), (4721, 4723), (4729, 4733), (4751, 4759), (4783, 4787), (4789, 4793), (4799, 4801), (4813, 4817), (4831, 4861), (4871, 4877), (4889, 4903), (4909, 4919), (4931, 4933), (4937, 4943), (4951, 4957), (4967, 4969), (4973, 4987), (4993, 4999), (5003, 5009), (5011, 5021), (5023, 5039), (5051, 5059), (5077, 5081), (5087, 5099), (5101, 5107), (5113, 5119), (5147, 5153), (5167, 5171), (5179, 5189), (5197, 5209), (5227, 5231), (5233, 5237), (5261, 5273), (5279, 5281), (5297, 5303), (5309, 5323), (5333, 5347), (5351, 5381), (5387, 5393), (5399, 5407), (5413, 5417), (5419, 5431), (5437, 5441), (5443, 5449), (5471, 5477), (5479, 5483), (5501, 5503), (5507, 5519), (5521, 5527), (5531, 5557), (5563, 5569), (5573, 5581), (5591, 5623), (5639, 5641), (5647, 5651), (5653, 5657), (5659, 5669), (5683, 5689), (5693, 5701), (5711, 5717), (5737, 5741), (5743, 5749), (5779, 5783), (5791, 5801), (5807, 5813), (5821, 5827), (5839, 5843), (5849, 5851), (5857, 5861), (5867, 5869), (5879, 5881), (5897, 5903), (5923, 5927), (5939, 5953), (5981, 5987), (6007, 6011), (6029, 6037), (6043, 6047), (6053, 6067), (6073, 6079), (6089, 6091), (6101, 6113), (6121, 6131), (6133, 6143), (6151, 6163), (6173, 6197), (6199, 6203), (6211, 6217), (6221, 6229), (6247, 6257), (6263, 6269), (6271, 6277), (6287, 6299), (6301, 6311), (6317, 6323), (6329, 6337), (6343, 6353), (6359, 6361), (6367, 6373), (6379, 6389), (6397, 6421), (6427, 6449), (6451, 6469), (6473, 6481), (6491, 6521), (6529, 6547), (6551, 6553), (6563, 6569), (6571, 6577), (6581, 6599), (6607, 6619), (6637, 6653), (6659, 6661), (6673, 6679), (6689, 6691), (6701, 6703), (6709, 6719), (6733, 6737), (6761, 6763), (6779, 6781), (6791, 6793), (6803, 6823), (6827, 6829), (6833, 6841), (6857, 6863), (6869, 6871), (6883, 6899), (6907, 6911), (6917, 6947), (6949, 6959), (6961, 6967), (6971, 6977), (6983, 6991), (6997, 7001), (7013, 7019), (7027, 7039), (7043, 7057), (7069, 7079), (7103, 7109), (7121, 7127), (7129, 7151), (7159, 7177), (7187, 7193), (7207, 7211), (7213, 7219), (7229, 7237), (7243, 7247), (7253, 7283), (7297, 7307), (7309, 7321), (7331, 7333), (7349, 7351), (7369, 7393), (7411, 7417), (7433, 7451), (7457, 7459), (7477, 7481), (7487, 7489), (7499, 7507), (7517, 7523), (7529, 7537), (7541, 7547), (7549, 7559), (7561, 7573), (7577, 7583), (7589, 7591), (7603, 7607), (7621, 7639), (7643, 7649), (7669, 7673), (7681, 7687), (7691, 7699), (7703, 7717), (7723, 7727), (7741, 7753), (7757, 7759), (7789, 7793), (7817, 7823), (7829, 7841), (7853, 7867), (7873, 7877), (7879, 7883), (7901, 7907), (7919, 7927), (7933, 7937), (7949, 7951), (7963, 7993), (8009, 8011), (8017, 8039), (8053, 8059), (8069, 8081), (8087, 8089), (8093, 8101), (8111, 8117), (8123, 8147), (8161, 8167), (8171, 8179), (8191, 8209), (8219, 8221), (8231, 8233), (8237, 8243), (8263, 8269), (8273, 8287), (8291, 8293), (8297, 8311), (8317, 8329), (8353, 8363), (8369, 8377), (8387, 8389), (8419, 8423), (8429, 8431), (8443, 8447), (8461, 8467), (8501, 8513), (8521, 8527), (8537, 8539), (8543, 8563), (8573, 8581), (8597, 8599), (8609, 8623), (8627, 8629), (8641, 8647), (8663, 8669), (8677, 8681), (8689, 8693), (8699, 8707), (8713, 8719), (8731, 8737), (8741, 8747), (8753, 8761), (8779, 8783), (8803, 8807), (8819, 8821), (8831, 8837), (8839, 8849), (8861, 8863), (8867, 8887), (8893, 8923), (8929, 8933), (8941, 8951), (8963, 8969), (8971, 8999), (9001, 9007), (9011, 9013), (9029, 9041), (9043, 9049), (9059, 9067), (9091, 9103), (9109, 9127), (9133, 9137), (9151, 9157), (9161, 9173), (9181, 9187), (9199, 9203), (9209, 9221), (9227, 9239), (9241, 9257), (9277, 9281), (9283, 9293), (9311, 9319), (9323, 9337), (9341, 9343), (9349, 9371), (9377, 9391), (9397, 9403), (9413, 9419), (9421, 9431), (9433, 9437), (9439, 9461), (9463, 9467), (9473, 9479), (9491, 9497), (9511, 9521), (9533, 9539), (9547, 9551), (9587, 9601), (9613, 9619), (9623, 9629), (9631, 9643), (9649, 9661), (9677, 9679), (9689, 9697), (9719, 9721), (9733, 9739), (9743, 9749), (9767, 9769), (9781, 9787), (9791, 9803), (9811, 9817), (9829, 9833), (9839, 9851), (9857, 9859), (9871, 9883), (9887, 9901), (9907, 9923), (9929, 9931), (9941, 9949), (9967, 9973)\n",
            "A quantidade de pares de números primos ímpares até 10000 é 614.\n"
          ]
        }
      ]
    },
    {
      "cell_type": "markdown",
      "metadata": {
        "id": "2nGYjGNpHTLg"
      },
      "source": [
        "3. Faça um programa que calcula a diferença entre o cubo da soma e a soma dos cubos dos números naturais até 2500.\n",
        "\n",
        "10 - OK"
      ]
    },
    {
      "cell_type": "code",
      "metadata": {
        "id": "YiwHeA5hHZJX",
        "colab": {
          "base_uri": "https://localhost:8080/"
        },
        "outputId": "737017b6-e965-4f24-8e66-86b65f18bf20"
      },
      "source": [
        "# Cole aqui o código que resolve a questão 3\n",
        "\n",
        "# Inicializando variáveis para armazenar resultado do cubo das somas e da\n",
        "# soma dos cubos dos números até 2500\n",
        "soma_cubos = 0\n",
        "cubo_somas = 0\n",
        "numero = 1\n",
        "\n",
        "# Operando o número atual e somando os resultados às respectivas variáveis\n",
        "while (numero <= 2500):\n",
        "    soma_cubos += (numero ** 3)\n",
        "    cubo_somas += numero\n",
        "    numero += 1\n",
        "cubo_somas **= 3\n",
        "\n",
        "# Apresentando resultado da diferença entre o cubo das somas e a soma dos\n",
        "# cubos dos números até 2500\n",
        "print(f\"A diferença entre a soma dos cubos até 2500 ({soma_cubos}) e o cubo das somas até 2500 ({cubo_somas}) é {cubo_somas - soma_cubos}.\")"
      ],
      "execution_count": null,
      "outputs": [
        {
          "output_type": "stream",
          "name": "stdout",
          "text": [
            "A diferença entre a soma dos cubos até 2500 (9773439062500) e o cubo das somas até 2500 (30554213869140625000) é 30554204095701562500.\n"
          ]
        }
      ]
    },
    {
      "cell_type": "markdown",
      "metadata": {
        "id": "3NSOtLwVHHnO"
      },
      "source": [
        "4. Faça um programa que realiza a apuração de eleições com dois candidatos: Pedro, cujo número é 18 e Paulo, cujo número é 85. Votos no número zero, significa voto em branco. Voto em qualquer número positivo diferente dos anteriores é nulo. Um voto em um número negativo é uma abstenção.\n",
        "\n",
        "    O programa deve iniciar perguntando o número de eleitores. Sucessivamente pergunta o voto de um eleitor. Completada leitura dos votantes, o programa deve indicar:\n",
        "    * O percentual de votos em cada candidato;\n",
        "    * candidato vencedor (Pedro é mais velho do que Paulo, portanto é vencedor em caso de empate no número de votos) e o seu percentual de votos;\n",
        "    * O percentual de abstenções;\n",
        "    * O número de votos válidos;\n",
        "    * O número de votos nulos.\n",
        "    \n",
        "10 - OK"
      ]
    },
    {
      "cell_type": "code",
      "metadata": {
        "id": "k8x0_8OqHaRw",
        "colab": {
          "base_uri": "https://localhost:8080/"
        },
        "outputId": "f3549b92-ccd7-4c97-b1bb-270e5cd9e584"
      },
      "source": [
        "# Cole aqui o código que resolve a questão 4\n",
        "\n",
        "# Inicializando variáveis para contabilização dos votos\n",
        "votos_pedro = 0\n",
        "votos_paulo = 0\n",
        "votos_branco = 0\n",
        "votos_nulo = 0\n",
        "abstencoes = 0\n",
        "\n",
        "# Solicitando quantidade de eleitores que votarão\n",
        "numero_valido = False\n",
        "while (numero_valido == False):\n",
        "    eleitores = int(input(\"Digite a quantidade de eleitores que participarão da eleição: \"))\n",
        "    if (eleitores > 0):\n",
        "        numero_valido = True\n",
        "    else:\n",
        "        print(\"Digite uma quantia válida!\\n\")\n",
        "\n",
        "# Solicitando voto de cada eleitor e armazenando de acordo com o número\n",
        "# digitado\n",
        "eleitor = 1\n",
        "while (eleitor <= eleitores):\n",
        "    print(\"\\n* Tabela de votação\")\n",
        "    print(\"- Pedro = 18;\")\n",
        "    print(\"- Paulo = 85;\")\n",
        "    print(\"- Branco = 0;\")\n",
        "    print(\"- Nulo = Nenhum dos números anteriores;\")\n",
        "    print(\"- Abstenção = Número negativo;\")\n",
        "    voto = int(input(\"-> Digite seu voto: \"))\n",
        "    if (voto == 18):\n",
        "        votos_pedro += 1\n",
        "    elif (voto == 85):\n",
        "        votos_paulo += 1\n",
        "    elif (voto == 0):\n",
        "        votos_branco += 1\n",
        "    elif (voto < 0):\n",
        "        abstencoes += 1\n",
        "    else:\n",
        "        votos_nulo += 1\n",
        "    eleitor += 1\n",
        "\n",
        "# Contabilizando votos válidos\n",
        "votos_validos = eleitores - (votos_branco + votos_nulo + abstencoes)\n",
        "\n",
        "# Apresentando resultado final da eleição\n",
        "print(\"-----\\n\\n* Resultado das eleições\")\n",
        "print(f\"- Percentual de votos em cada candidato\")\n",
        "print(f\" - Pedro: {(100 * votos_pedro) / votos_validos:.2f}% dos votos válidos;\")\n",
        "print(f\" - Paulo: {(100 * votos_paulo) / votos_validos:.2f}% dos votos válidos;\")\n",
        "print(\"- Vencedor da eleição: \", end='')\n",
        "if (votos_pedro >= votos_paulo):\n",
        "    print(\"Pedro;\")\n",
        "else:\n",
        "    print(\"Paulo;\")\n",
        "print(f\"- Abstenções: {(100 * abstencoes) / eleitores:.2f}%;\")\n",
        "print(f\"- Número de votos válidos: {votos_validos:02d};\")\n",
        "print(f\"- Número de votos nulos: {votos_nulo:02d};\")"
      ],
      "execution_count": null,
      "outputs": [
        {
          "output_type": "stream",
          "name": "stdout",
          "text": [
            "Digite a quantidade de eleitores que participarão da eleição: 6\n",
            "\n",
            "* Tabela de votação\n",
            "- Pedro = 18;\n",
            "- Paulo = 85;\n",
            "- Branco = 0;\n",
            "- Nulo = Nenhum dos números anteriores;\n",
            "- Abstenção = Número negativo;\n",
            "-> Digite seu voto: 18\n",
            "\n",
            "* Tabela de votação\n",
            "- Pedro = 18;\n",
            "- Paulo = 85;\n",
            "- Branco = 0;\n",
            "- Nulo = Nenhum dos números anteriores;\n",
            "- Abstenção = Número negativo;\n",
            "-> Digite seu voto: 85\n",
            "\n",
            "* Tabela de votação\n",
            "- Pedro = 18;\n",
            "- Paulo = 85;\n",
            "- Branco = 0;\n",
            "- Nulo = Nenhum dos números anteriores;\n",
            "- Abstenção = Número negativo;\n",
            "-> Digite seu voto: 0\n",
            "\n",
            "* Tabela de votação\n",
            "- Pedro = 18;\n",
            "- Paulo = 85;\n",
            "- Branco = 0;\n",
            "- Nulo = Nenhum dos números anteriores;\n",
            "- Abstenção = Número negativo;\n",
            "-> Digite seu voto: 1\n",
            "\n",
            "* Tabela de votação\n",
            "- Pedro = 18;\n",
            "- Paulo = 85;\n",
            "- Branco = 0;\n",
            "- Nulo = Nenhum dos números anteriores;\n",
            "- Abstenção = Número negativo;\n",
            "-> Digite seu voto: -1\n",
            "\n",
            "* Tabela de votação\n",
            "- Pedro = 18;\n",
            "- Paulo = 85;\n",
            "- Branco = 0;\n",
            "- Nulo = Nenhum dos números anteriores;\n",
            "- Abstenção = Número negativo;\n",
            "-> Digite seu voto: 85\n",
            "-----\n",
            "\n",
            "* Resultado das eleições\n",
            "- Percentual de votos em cada candidato\n",
            " - Pedro: 33.33% dos votos válidos;\n",
            " - Paulo: 66.67% dos votos válidos;\n",
            "- Vencedor da eleição: Paulo;\n",
            "- Abstenções: 16.67%;\n",
            "- Número de votos válidos: 03;\n",
            "- Número de votos nulos: 01;\n"
          ]
        }
      ]
    },
    {
      "cell_type": "markdown",
      "metadata": {
        "id": "WUpZHfQkHSGn"
      },
      "source": [
        "5. $2^{15}$ = 32768. A soma dos dígitos de 32768 é 3 + 2 + 7 + 6 + 8 = 26.\n",
        "\n",
        "    Faça um programa que recebe um número e exibe a soma dos dígitos de $2^{numero}$.\n",
        "\n",
        "10 - OK"
      ]
    },
    {
      "cell_type": "code",
      "metadata": {
        "id": "q6MKqku7Hc1z",
        "colab": {
          "base_uri": "https://localhost:8080/"
        },
        "outputId": "d726339b-cf06-4c38-9508-13001c45e32f"
      },
      "source": [
        "# Cole aqui o código que resolve a questão 5\n",
        "\n",
        "# Solicitando número ao usuário e elevando 2 a esse número\n",
        "potencia = int(input(\"Digite uma potência de 2: 2^\"))\n",
        "numero = 2 ** potencia\n",
        "\n",
        "# Copiando resultado para variável temporária e inicializando variável\n",
        "# para armazenar resultado da soma dos digitos do resultado da potência\n",
        "temp = numero\n",
        "soma = 0\n",
        "\n",
        "# Somando digitos do resultado da potência\n",
        "while (temp > 0):\n",
        "    soma += temp % 10\n",
        "    temp //= 10\n",
        "\n",
        "# Apresentando resultado da soma\n",
        "print(f\"2^{potencia} é igual a {numero} e a soma de seus dígitos é {soma}.\")"
      ],
      "execution_count": null,
      "outputs": [
        {
          "output_type": "stream",
          "name": "stdout",
          "text": [
            "Digite uma potência de 2: 2^15\n",
            "2^15 é igual a 32768 e a soma de seus dígitos é 26.\n"
          ]
        }
      ]
    },
    {
      "cell_type": "markdown",
      "source": [
        "6. Giovanna pediu ao seu pai para colocar sensores de ré no carro dela. O sistema é formado por quatro sensores, uma central e um display. A central lê os dados de distância de cada sensor a um obstáculo, processa e mostra a menor distância no display. Eles acabaram por propor um programa que simula o sensor e que basicamente funciona assim:\n",
        "\n",
        "*   Gera números aleatórios entre 0.1 e 2 para cada sensor;\n",
        "*   Escolhe a menor distância entre gerada para cada sensor;\n",
        "*   Exibe a distância no sensor;\n",
        "*   Espera 100 ms e repete o processo, limitando a nova distância gerada em cada sensor ao valor anterior nele medido;\n",
        "*   Para quando a distância atingir 0.2 ou menos, após emitir um beep (caractere \"\\b\").\n",
        "\n",
        "Faça esse programa.\n",
        "\n",
        "10 - OK"
      ],
      "metadata": {
        "id": "zuw0pbDPfz8A"
      }
    },
    {
      "cell_type": "code",
      "source": [
        "# Cole aqui o código que resolve a questão 6\n",
        "\n",
        "from random import uniform\n",
        "from time import sleep\n",
        "\n",
        "# Inicializando variável para armazenar menor distância detectada por,\n",
        "# ao menos, um dos sensores\n",
        "menor_distancia = 2\n",
        "\n",
        "# Fazendo leitura dos quatro sensores enquanto, ao menos um deles, não\n",
        "# detecta uma distância menor ou igual a 0.2\n",
        "while (menor_distancia > 0.2):\n",
        "    sensor1 = uniform(0.1, menor_distancia)\n",
        "    sensor2 = uniform(0.1, menor_distancia)\n",
        "    sensor3 = uniform(0.1, menor_distancia)\n",
        "    sensor4 = uniform(0.1, menor_distancia)\n",
        "\n",
        "    # Testando qual a menor distância detectada e qual o sensor responsável\n",
        "    # por essa detecção\n",
        "    sensor = 1\n",
        "    for sensor_atual in sensor1, sensor2, sensor3, sensor4:\n",
        "        if (sensor_atual < menor_distancia):\n",
        "            menor_distancia = sensor_atual\n",
        "            menor_sensor = sensor\n",
        "        sensor += 1\n",
        "\n",
        "    # Apresentando menor distância atual\n",
        "    print(f\"- Menor distância atual: {menor_distancia:.2f} (sensor {menor_sensor:02d})\")\n",
        "    sleep(0.1)\n",
        "\n",
        "# Apresentando beep\n",
        "print(\"\\n\\n\\b* BEEP!\")"
      ],
      "metadata": {
        "id": "JB5v2beVihCD",
        "colab": {
          "base_uri": "https://localhost:8080/"
        },
        "outputId": "0766b880-5179-4d16-d17e-be1ea3c0489f"
      },
      "execution_count": null,
      "outputs": [
        {
          "output_type": "stream",
          "name": "stdout",
          "text": [
            "- Menor distância atual: 0.83 (sensor 02)\n",
            "- Menor distância atual: 0.36 (sensor 03)\n",
            "- Menor distância atual: 0.16 (sensor 04)\n",
            "\n",
            "\n",
            "\b* BEEP!\n"
          ]
        }
      ]
    },
    {
      "cell_type": "markdown",
      "source": [
        "7. Um número é dito decrescente quando os seus dígitos ao serem observados em\n",
        "pares sucessivos, nenhum par deles tem o dígito da direita maior do que o da\n",
        "esquerda. Ex: 954331 é um número decrescentente (3 não é menor do que 1; 3\n",
        "não é menor do que 3; 4 não é menor do que 3; 5 não é menor do que 4; 9 não é\n",
        "menor do que 5;). No números crescentes, por sua vez, dígitos sucessivos têm o\n",
        "da esquerda nunca maior do que o da direita; é o que ocorre em 46779. O\n",
        "programa abaixo determina se um número é descrescente.\n",
        "\n",
        "```\n",
        "n = int (input (“Digite um numero: ”))\n",
        "decrescente = True\n",
        "digAnterior = 0\n",
        "while n > 0:\n",
        "   digito = n % 10\n",
        "   if digito < digAnterior:\n",
        "      decrescente = False\n",
        "   digAnterior = digito\n",
        "   n = n // 10\n",
        "if decrescente:\n",
        "   print (“O numero digitado eh descrescente“)\n",
        "else:\n",
        "   print (“O numero digitado NAO eh descrescente“)\n",
        "```\n",
        "\n",
        "\n",
        "Modifique o programa acima para contar quantos números decrescentes existem\n",
        "até 10000 (inclusive).\n",
        "\n",
        "10 - OK"
      ],
      "metadata": {
        "id": "n2rQWud3L3hb"
      }
    },
    {
      "cell_type": "code",
      "source": [
        "# Cole aqui o código que resolve a questão 7\n",
        "\n",
        "# Inicializando a variável de contagem da quantidade de números decrescentes\n",
        "quantidade = 0\n",
        "\n",
        "# Aplicando o algoritmo fornecido com todos os números entre 1 e 10000 e\n",
        "# contabilizando, na variável \"quantidade\", quando o número atualmente\n",
        "# testado for decrescente\n",
        "for numero in range(1, 10000 + 1):\n",
        "    decrescente = True\n",
        "    digito_anterior = 0\n",
        "    while (numero > 0):\n",
        "        digito = numero % 10\n",
        "        if (digito < digito_anterior):\n",
        "            decrescente = False\n",
        "        digito_anterior = digito\n",
        "        numero //= 10\n",
        "    if (decrescente):\n",
        "        quantidade += 1\n",
        "\n",
        "# Apresentando quantidade obtida\n",
        "print(f\"A quantidade de números decrescentes até 10000 é {quantidade}.\")"
      ],
      "metadata": {
        "id": "g1UUnIZyL2aH",
        "colab": {
          "base_uri": "https://localhost:8080/"
        },
        "outputId": "7f00cf38-717f-4d9c-be91-473d38f8d35c"
      },
      "execution_count": null,
      "outputs": [
        {
          "output_type": "stream",
          "name": "stdout",
          "text": [
            "A quantidade de números decrescentes até 10000 é 988.\n"
          ]
        }
      ]
    },
    {
      "cell_type": "markdown",
      "source": [
        "8.\tO cálculo do valor de PI com muita precisão pode ser realizado de várias maneiras. Uma delas está expressa a seguir (série de Gregory-Leibniz)\n",
        "\t\tPI = 4/1 – 4/3 + 4/5 – 4/7 + 4/9 – 4/11+ ….\n",
        "Faça um programa que determine o valor de PI usando 1000 termos dessa série.\n",
        "\n",
        "10 - OK"
      ],
      "metadata": {
        "id": "Ir4_u4D1M0Fb"
      }
    },
    {
      "cell_type": "code",
      "source": [
        "# Cole aqui o código que resolve a questão 8\n",
        "\n",
        "# Inicializando variável para armazenar Pi e para armazenar os números\n",
        "# ímpares que serão aplicados na fórmula do cálculo\n",
        "pi = 0\n",
        "impar = 1\n",
        "\n",
        "# Aplicando fórmula fornecida pela questão para o cálculo de Pi\n",
        "for contagem in range(1, 1000):\n",
        "    divisao = 4 / impar\n",
        "    if (contagem % 2 == 0):\n",
        "        divisao *= -1\n",
        "    pi += divisao\n",
        "    impar += 2\n",
        "\n",
        "# Apresentando valor calculado de Pi\n",
        "print(f\"O valor calculado de Pi é {pi:.50f}.\")"
      ],
      "metadata": {
        "id": "7WElqqbaNgF6",
        "colab": {
          "base_uri": "https://localhost:8080/"
        },
        "outputId": "11f2e511-e4d8-40aa-861f-4f2d786094cc"
      },
      "execution_count": null,
      "outputs": [
        {
          "output_type": "stream",
          "name": "stdout",
          "text": [
            "O valor calculado de Pi é 3.14259365434004411810064993915148079395294189453125.\n"
          ]
        }
      ]
    },
    {
      "cell_type": "markdown",
      "source": [
        "9. Outra forma de calcular o valor de PI é com a seguinte série (de Nilakantha):\n",
        "PI = 3 + 4/(2\\*3\\*4) – 4/(4\\*5\\*6) + 4/(6\\*7\\*8) – 4/(8\\*9\\*10) + …\n",
        "\tFaça um programa que determine o valor de PI usando um número de termos especificado pelo usuário.\n",
        "\n",
        "10 - OK"
      ],
      "metadata": {
        "id": "50w2Rl1ANVjJ"
      }
    },
    {
      "cell_type": "code",
      "source": [
        "# Cole aqui o código que resolve a questão 9\n",
        "\n",
        "# Solicitando quantidade de repetições\n",
        "repeticoes = int(input(\"Digite o número de repetições: \"))\n",
        "\n",
        "# Inicializando variável para armazenar Pi e para armazenar os números\n",
        "# que serão aplicados no denominador da fórmula do cálculo\n",
        "pi = 3\n",
        "denominador = 2\n",
        "\n",
        "# Aplicando fórmula fornecida pela questão para o cálculo de Pi\n",
        "for contagem in range(1, repeticoes):\n",
        "    divisao = 4 / (denominador * (denominador + 1) * (denominador + 2))\n",
        "    if (contagem % 2 == 0):\n",
        "        divisao *= -1\n",
        "    pi += divisao\n",
        "    denominador += 2\n",
        "\n",
        "# Apresentando valor calculado de Pi\n",
        "print(f\"O valor calculado de Pi é {pi:.50f}.\")"
      ],
      "metadata": {
        "id": "34fZS_0uNhwE",
        "colab": {
          "base_uri": "https://localhost:8080/"
        },
        "outputId": "67d9295f-3df3-4150-db1e-48329c3b51ea"
      },
      "execution_count": null,
      "outputs": [
        {
          "output_type": "stream",
          "name": "stdout",
          "text": [
            "Digite o número de repetições: 1000\n",
            "O valor calculado de Pi é 3.14159265383979491303989561856724321842193603515625.\n"
          ]
        }
      ]
    },
    {
      "cell_type": "markdown",
      "source": [
        "10.\tOs fatores primos de 13195 são 5, 7, 13 e 29. Faça um programa que encontre o maior fator primo de 57133271413.\n",
        "\n",
        "10 - OK, mas muito mais complexo e ineficiente do que o necessário"
      ],
      "metadata": {
        "id": "AHnROXRDNQcj"
      }
    },
    {
      "cell_type": "code",
      "source": [
        "# Cole aqui o código que resolve a questão 10\n",
        "\n",
        "# Inicializando variáveis\n",
        "numero = 57133271413 # Armazena número que se quer descobrir maior fator primo\n",
        "temp = numero # Armazena cópia do valor armazenado na variável anterior\n",
        "primo = 0 # Armazenará número que será testado\n",
        "maior_primo = primo # Armazenará o maior fator primo\n",
        "divisores = 0 # Armazenará quantidade de divisores que um número possui\n",
        "\n",
        "# Testando todos os números primos que podem ser fatores do número\n",
        "# fornecido pela questão até que o mesmo seja totalmente fatorado\n",
        "while (temp > 1):\n",
        "    primo += 1\n",
        "    for tentativa in range(1, primo + 1):\n",
        "        if (primo % tentativa == 0):\n",
        "            divisores += 1\n",
        "\n",
        "    # Se o número descoberto for primo, é testado se o mesmo é um fator do\n",
        "    # número fornecido e, se sim, armazena-o se o mesmo for maior que o maior\n",
        "    # fator primo descoberto até o momento\n",
        "    if (divisores == 2):\n",
        "        if (temp % primo == 0 and primo > maior_primo):\n",
        "            temp //= primo\n",
        "            maior_primo = primo\n",
        "            primo = 0\n",
        "        elif (temp % primo == 0):\n",
        "            temp //= primo\n",
        "            primo = 0\n",
        "    divisores = 0\n",
        "\n",
        "# Apresentando maior fator primo descoberto para o número fornecido\n",
        "print(f\"O maior fator primo de {numero} é {maior_primo}.\")"
      ],
      "metadata": {
        "id": "5bnNhvdUNj6w",
        "colab": {
          "base_uri": "https://localhost:8080/"
        },
        "outputId": "cc01ee13-a483-4b72-ffca-acbe27df0176"
      },
      "execution_count": null,
      "outputs": [
        {
          "output_type": "stream",
          "name": "stdout",
          "text": [
            "O maior fator primo de 57133271413 é 9931.\n"
          ]
        }
      ]
    }
  ]
}