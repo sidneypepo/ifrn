{
  "nbformat": 4,
  "nbformat_minor": 0,
  "metadata": {
    "colab": {
      "provenance": []
    },
    "kernelspec": {
      "name": "python3",
      "display_name": "Python 3"
    }
  },
  "cells": [
    {
      "cell_type": "markdown",
      "source": [
        "Atividade Avaliativa de Programação de Computadores\n",
        "\n",
        "**Professor:** Galileu Batista  \n",
        "**Aluno:** Sidney Pedro\n",
        "\n",
        "---"
      ],
      "metadata": {
        "id": "R3UTZOszCary"
      }
    },
    {
      "cell_type": "markdown",
      "metadata": {
        "id": "4pJSrHVLGrhL"
      },
      "source": [
        "1. Uma família fez uma viagem de carro e quer detalhes sobre o desempenho do\n",
        "veículo. Faça um programa que pergunta: o tempo da viagem (em segundos), o\n",
        "número de litros de combustível gasto (em l), o preço do litro de combustível (em R\\$) e a distância percorrida (em Km); após isso informa dados típicos de um\n",
        "computador de bordo: a velocidade média (Km/h), o custo da viagem com\n",
        "combustível (em R\\$), o desempenho do carro (em Km/l, l/h e R\\$/Km).\n",
        "\n",
        "15 - OK\n"
      ]
    },
    {
      "cell_type": "code",
      "metadata": {
        "id": "gd-FRbhjGqsJ",
        "colab": {
          "base_uri": "https://localhost:8080/"
        },
        "outputId": "2636652b-1851-4cd4-f935-68ac1b003284"
      },
      "source": [
        "# Cole aqui o código que resolve a questão 1\n",
        "\n",
        "# Obtendo dados do usuário\n",
        "tempo_viagem = int(input(\"Digite a duração da viagem (em segundos): \"))\n",
        "combustivel_gasto = float(input(\"Digite quantos litros de combustível foram gastos na viagem: \"))\n",
        "preco_combustivel = float(input(\"Digite o preço do litro do combustível: R$\"))\n",
        "distancia = float(input(\"Digite quantos quilômetros foram percorridos: \"))\n",
        "\n",
        "# Calculando informações com base nos dados fornecidos anteriormente\n",
        "horas = tempo_viagem / 3600\n",
        "custo = combustivel_gasto * preco_combustivel\n",
        "velocidade = distancia / horas\n",
        "desempenho_km_l = distancia / combustivel_gasto\n",
        "desempenho_l_h = combustivel_gasto / horas\n",
        "desempenho_rs_km = custo / distancia\n",
        "\n",
        "# Apresentando para o usuário os resultados dos cálculos realizados\n",
        "print(\"\\n* Computador de bordo - Informações:\")\n",
        "print(f\"- Velocidade média: {velocidade:.2f} km/h;\")\n",
        "print(f\"- Gasto de combustível com a viagem: R${custo:.2f};\")\n",
        "print(f\"- Desempenho do carro: {desempenho_km_l:.2f} km/L, {desempenho_l_h:.2f} L/h e {desempenho_rs_km:.2f} R$/km;\")"
      ],
      "execution_count": null,
      "outputs": [
        {
          "output_type": "stream",
          "name": "stdout",
          "text": [
            "Digite a duração da viagem (em segundos): 4200\n",
            "Digite quantos litros de combustível foram gastos na viagem: 5\n",
            "Digite o preço do litro do combustível: R$5.65\n",
            "Digite quantos quilômetros foram percorridos: 65\n",
            "\n",
            "* Computador de bordo - Informações:\n",
            "- Velocidade média: 55.71 km/h;\n",
            "- Gasto de combustível com a viagem: R$28.25;\n",
            "- Desempenho do carro: 13.00 km/L, 4.29 L/h e 0.43 R$/km;\n"
          ]
        }
      ]
    },
    {
      "cell_type": "markdown",
      "source": [
        "2. Para o cálculo do Índice de Massa Corporal, você precisa de dois valores: seu peso e altura. É só dividir o peso (em quilos) pelo quadrado da altura (em metros), que é obtido pela multiplicação da altura por ela mesma.\n",
        "\n",
        "> Então, a fórmula fica assim: IMC = Peso / Altura².\n",
        "\n",
        "> Além disso, é possível estabelecer o nível de obesidade, em função do valor do IMC, conforme tabela a seguir.\n",
        "\n",
        "IMC |Classificação\n",
        "---|----\n",
        "Menor do que 18,5 |\tAbaixo do peso\n",
        "Entre 18,5 e 24,9 |\tPeso normal\n",
        "Entre 25 e 29,9\t| Acima do peso (sobrepeso)\n",
        "Entre 30 e 34,9\t| Sobrepeso\n",
        "Entre 35 e 39,9\t| Obesidade\n",
        "Maior do que 40\t| Obesidade grave\n",
        "\n",
        "> Faça um programa que receba o peso e a altura e responda o IMC e a classificação de acordo com a tabela acima.\n",
        "\n",
        "15 - OK"
      ],
      "metadata": {
        "id": "WElHtbSpwQOs"
      }
    },
    {
      "cell_type": "code",
      "source": [
        "# Cole aqui o código que resolve a questão 2\n",
        "\n",
        "# Obtendo informações do usuário\n",
        "massa = float(input(\"Digite sua massa (em quilos): \"))\n",
        "altura = float(input(\"Digite sua altura (em metros): \"))\n",
        "\n",
        "# Calculando e apresentando valor de IMC do usuário\n",
        "imc = massa / (altura ** 2)\n",
        "print(f\"\\nIMC = {imc:.1f}\")\n",
        "\n",
        "# Classificação IMC com base na tabela e informando resultado ao usuário.\n",
        "if (imc < 18.5):\n",
        "    print(\"\\nDe acordo com seu IMC, você está abaixo do peso.\")\n",
        "elif (imc < 25):\n",
        "    print(\"\\nDe acordo com seu IMC, você está com o peso normal.\")\n",
        "elif (imc < 30):\n",
        "    print(\"\\nDe acordo com seu IMC, você está acima do peso.\")\n",
        "elif (imc < 35):\n",
        "    print(\"\\nDe acordo com seu IMC, você está com sobrepeso.\")\n",
        "elif (imc < 40):\n",
        "    print(\"\\nDe acordo com seu IMC, você está com obesidade.\")\n",
        "else:\n",
        "    print(\"\\nDe acordo com seu IMC, você está com obesidade grave.\")"
      ],
      "metadata": {
        "id": "bmI8aHMOyGaz",
        "colab": {
          "base_uri": "https://localhost:8080/"
        },
        "outputId": "47086e5a-26a2-46ed-a0f3-4a731ddefec7"
      },
      "execution_count": null,
      "outputs": [
        {
          "output_type": "stream",
          "name": "stdout",
          "text": [
            "Digite sua massa (em quilos): 68\n",
            "Digite sua altura (em metros): 1.68\n",
            "\n",
            "IMC = 24.1\n",
            "\n",
            "De acordo com seu IMC, você está com o peso normal.\n"
          ]
        }
      ]
    },
    {
      "cell_type": "markdown",
      "metadata": {
        "id": "2nGYjGNpHTLg"
      },
      "source": [
        "3. Uma revendedora de carros usados paga a seus funcionários vendedores um salário composto por três partes:\n",
        "    * Um valor fixo;\n",
        "    * Uma comissão fixa para cada carro vendido\n",
        "    * Um percentual de 6% do valor das vendas por ele efetuadas.\n",
        "\n",
        " Escrever um programa que leia o número de carros por vendidos pelo funcionário, o valor total de suas vendas, o salário fixo e o valor que ele recebe por carro vendido. Calcule e escreva o salário final do vendedor.\n",
        "\n",
        " 10 - O valor da comissão por venda não depende do número de carros vendidos"
      ]
    },
    {
      "cell_type": "code",
      "metadata": {
        "id": "YiwHeA5hHZJX",
        "colab": {
          "base_uri": "https://localhost:8080/"
        },
        "outputId": "180ff8e0-b843-4c3f-a8d6-6ac82802cca1"
      },
      "source": [
        "# Cole aqui o código que resolve a questão 3\n",
        "\n",
        "# Obendo informações e desempenho de Fulaninho na revendedora\n",
        "carros_vendidos = int(input(\"Digite quantos carros foram vendidos por Fulaninho: \"))\n",
        "valor_vendas = float(input(\"Digite o valor total das vendas feitas por Fulaninho: R$\"))\n",
        "salario_fixo = float(input(\"Digite o salário fixo de Fulaninho: R$\"))\n",
        "comissao = float(input(\"Digite a comissão recebida por carro vendido por Fulaninho: R$\"))\n",
        "\n",
        "# Calculando salário final de Fulaninho\n",
        "salario_final = salario_fixo + (comissao * carros_vendidos) + ((valor_vendas / carros_vendidos) * 0.06)\n",
        "\n",
        "# Apresentando o salário final do Fulaninho ao usuário\n",
        "print(f\"\\nO salário final de Fulaninho é de R$ {salario_final:.2f}.\")"
      ],
      "execution_count": null,
      "outputs": [
        {
          "output_type": "stream",
          "name": "stdout",
          "text": [
            "Digite quantos carros foram vendidos por Fulaninho: 10\n",
            "Digite o valor total das vendas feitas por Fulaninho: R$600000\n",
            "Digite o salário fixo de Fulaninho: R$5000\n",
            "Digite a comissão recebida por carro vendido por Fulaninho: R$500\n",
            "\n",
            "O salário final de Fulaninho é de R$ 13600.00.\n"
          ]
        }
      ]
    },
    {
      "cell_type": "markdown",
      "metadata": {
        "id": "3NSOtLwVHHnO"
      },
      "source": [
        "4. Um ano é bissexto se é múltiplo de 400, ou se é múltiplo de 4, mas não de 100.\n",
        "Faça um programa que receba o ano e diga se é ou não bissexto.\n",
        "\n",
        "5 - Não tratou as exceções de múltiplos de 100 e 400"
      ]
    },
    {
      "cell_type": "code",
      "metadata": {
        "id": "k8x0_8OqHaRw",
        "colab": {
          "base_uri": "https://localhost:8080/"
        },
        "outputId": "5770cb72-99c9-4be9-8fbb-bc93649166ce"
      },
      "source": [
        "# Cole aqui o código que resolve a questão 4\n",
        "\n",
        "# Obendo um ano\n",
        "ano = int(input(\"Digite um ano: \"))\n",
        "\n",
        "# Se o resto da divisão do ano obtido por 4 for 0, então é um ano bissexto,\n",
        "# se não, não é um ano bissexto. Após isso, o usuário receberá o resultado\n",
        "if (ano % 4 == 0):\n",
        "    print(f\"\\n{ano} é um ano bissexto.\")\n",
        "else:\n",
        "    print(f\"\\n{ano} não é um ano bissexto.\")"
      ],
      "execution_count": null,
      "outputs": [
        {
          "output_type": "stream",
          "name": "stdout",
          "text": [
            "Digite um ano: 2020\n",
            "\n",
            "2020 é um ano bissexto.\n"
          ]
        }
      ]
    },
    {
      "cell_type": "markdown",
      "metadata": {
        "id": "WUpZHfQkHSGn"
      },
      "source": [
        "5. Faça um programa que recebe uma data (dia, mês e ano). Responda qual é o número daquele dia no ano. <br>\n",
        "Dicas: Tente usar código da questão 3 para facilitar o seu trabalho. Não use *loops* (por enquanto).\n",
        "\n",
        "Ex: <br>\n",
        "> 01 / 02 / 2020 é o dia 32 <br>\n",
        "> 05 / 03 / 2020 é o dia 65 <br>\n",
        "> 05 / 03 / 2021 é o dia 64\n",
        "\n",
        "15 - Não tratou as exceções de múltiplos de 100 e 400"
      ]
    },
    {
      "cell_type": "code",
      "metadata": {
        "id": "q6MKqku7Hc1z",
        "colab": {
          "base_uri": "https://localhost:8080/"
        },
        "outputId": "d2bd8c26-20c2-477c-d624-e0fd04b6ba6e"
      },
      "source": [
        "# Cole aqui o código que resolve a questão 5\n",
        "\n",
        "# Obtendo uma data\n",
        "ano = int(input(\"Digite um ano: \"))\n",
        "mes = int(input(f\"Digite um mês do ano {ano}: \"))\n",
        "dia = int(input(f\"Digite um dia do mês {mes} do ano {ano}: \"))\n",
        "\n",
        "# Se o ano for bissexto, o mês de fevereiro terá 29 dias invés de 28\n",
        "if (ano % 4 == 0):\n",
        "    fevereiro = 29\n",
        "else:\n",
        "    fevereiro = 28\n",
        "\n",
        "# Verificando o mês fornecido e, de acordo com a duração do mesmo, soma-se\n",
        "# a quantidade de dias dos meses anteriores em uma variável responsável\n",
        "# pela contabilização do resultado\n",
        "if (mes == 1):\n",
        "    dia_do_ano = dia\n",
        "elif (mes == 2):\n",
        "    dia_do_ano = dia + 31\n",
        "elif (mes == 3):\n",
        "    dia_do_ano = dia + 31 + fevereiro\n",
        "elif (mes == 4):\n",
        "    dia_do_ano = dia + (31 * 2) + fevereiro\n",
        "elif (mes == 5):\n",
        "    dia_do_ano = dia + (31 * 2) + fevereiro + 30\n",
        "elif (mes == 6):\n",
        "    dia_do_ano = dia + (31 * 3) + fevereiro + 30\n",
        "elif (mes == 7):\n",
        "    dia_do_ano = dia + (31 * 3) + fevereiro + (30 * 2)\n",
        "elif (mes == 8):\n",
        "    dia_do_ano = dia + (31 * 4) + fevereiro + (30 * 2)\n",
        "elif (mes == 9):\n",
        "    dia_do_ano = dia + (31 * 5) + fevereiro + (30 * 2)\n",
        "elif (mes == 10):\n",
        "    dia_do_ano = dia + (31 * 5) + fevereiro + (30 * 3)\n",
        "elif (mes == 11):\n",
        "    dia_do_ano = dia + (31 * 6) + fevereiro + (30 * 3)\n",
        "elif (mes == 12):\n",
        "    dia_do_ano = dia + (31 * 6) + fevereiro + (30 * 4)\n",
        "\n",
        "# Apresentando qual o dia do ano\n",
        "print(f\"\\nO dia {dia:02}/{mes:02}/{ano:04} é o {dia_do_ano}º dia do ano {ano:04}.\")"
      ],
      "execution_count": null,
      "outputs": [
        {
          "output_type": "stream",
          "name": "stdout",
          "text": [
            "Digite um ano: 2020\n",
            "Digite um mês do ano 2020: 03\n",
            "Digite um dia do mês 3 do ano 2020: 05\n",
            "\n",
            "O dia 05/03/2020 é o 65º dia do ano 2020.\n"
          ]
        }
      ]
    },
    {
      "cell_type": "markdown",
      "source": [
        "6. Em um estacionamento, as tarifas sao as seguintes (cumulativas):\n",
        "\n",
        "    * Até duas horas: R\\$ 8,00/hora ou fração;\n",
        "    * Entre três e quatro horas: R\\$ 5,00/hora ou fração;\n",
        "    * Horas seguintes: R\\$ 3,00/hora ou fração.\n",
        "\n",
        "Faça um programa que leia o número de minutos que um veículo permaneceu no estacionamento e exiba o valor a ser pago pelo responsável.\n",
        "\n",
        "Como exemplo, considere que o carro ficou 310 minutos no estacionamento; deve pagar:  R\\$ 16,00 (pelas duas primeiras horas) + R\\$ 10,00 (pela terceira e quarta horas) + R\\$ 6,00 (pela quinta e sexta horas). Total de R$ 32,00\n",
        "\n",
        "10 - Erros nas fórmulas envolvendo 61"
      ],
      "metadata": {
        "id": "dW0cTwrZvdDr"
      }
    },
    {
      "cell_type": "code",
      "metadata": {
        "id": "dYrcBm_WHfoV",
        "colab": {
          "base_uri": "https://localhost:8080/"
        },
        "outputId": "51417c8d-55bc-43d8-8bf7-31c5d8237efb"
      },
      "source": [
        "# Cole aqui o código que resolve a questão 6\n",
        "\n",
        "# Obtendo tempo em que o carro ficou estacionado\n",
        "minutos = int(input(\"Digite quantos minutos o carro ficou estacionado: \"))\n",
        "\n",
        "# Se o tempo que o carro ficou parado foi menor ou igual a duas horas,\n",
        "# a tarifa é de 8 reais por hora (completa ou incompleta). Se foi entre\n",
        "# 3 e 4 horas, paga-se 16 reais mais 5 reais por hora (completa ou\n",
        "# incompleta). Se for mais de 4 horas, paga-se 26 reais (16 mais 10\n",
        "# das horas anteriores) mais 3 reais por hora (completa ou incompleta)\n",
        "if (minutos <= 120):\n",
        "    tarifa = 8 * (1 + (minutos // 61))\n",
        "elif (minutos <= 240):\n",
        "    tarifa = 16 + (5 * (1 + ((minutos - 120) // 61)))\n",
        "else:\n",
        "    tarifa = 16 + 10 + (3 * (1 + ((minutos - 240) // 61)))\n",
        "\n",
        "# Apresentando valor final da tarifa a ser paga pelo tempo em que o\n",
        "# carro ficou estacionado\n",
        "print(f\"\\nA tarifa total a pagar é R${tarifa:.2f}.\")"
      ],
      "execution_count": null,
      "outputs": [
        {
          "output_type": "stream",
          "name": "stdout",
          "text": [
            "Digite quantos minutos o carro ficou estacionado: 310\n",
            "\n",
            "A tarifa total a pagar é R$32.00.\n"
          ]
        }
      ]
    }
  ]
}