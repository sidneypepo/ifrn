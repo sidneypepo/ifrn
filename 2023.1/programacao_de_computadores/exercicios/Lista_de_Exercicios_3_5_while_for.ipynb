{
  "nbformat": 4,
  "nbformat_minor": 0,
  "metadata": {
    "colab": {
      "provenance": []
    },
    "kernelspec": {
      "name": "python3",
      "display_name": "Python 3"
    },
    "language_info": {
      "name": "python"
    }
  },
  "cells": [
    {
      "cell_type": "markdown",
      "source": [
        "Lista de Exercícios comandos de repetição (parte 2) - Usando a linguagem de programação Python (versão 3.X)\n",
        "\n",
        "**Professor:** Galileu Batista  \n",
        "**Aluno**: Sidney Pedro\n",
        "\n",
        "---"
      ],
      "metadata": {
        "id": "uMUFGvowvNCa"
      }
    },
    {
      "cell_type": "markdown",
      "source": [
        "1.   Um número é dito decrescente quando os seus dígitos ao serem observados em pares sucessivos, nenhum par deles tem o dígito da direita maior do que o da esquerda. Ex: 954331 é um número decrescentente (3 não é menor do que 1; 3 não é menor do que 3; 4 não é menor do que 3; 5 não é menor do que 4; 9 não é menor do que 5;). No números crescentes, por sua vez, dígitos sucessivos têm o da esquerda nunca maior do que o da direita; é o que ocorre em 46779. O programa abaixo determina se um número é descrescente.\n",
        "\n",
        "   ``` python\n",
        "   n = int (input (\"Digite um numero: \"))\n",
        "\n",
        "   decrescente = True\n",
        "   digAnterior = 0\n",
        "   while n > 0:\n",
        "         digito = n % 10\n",
        "         if digito < digAnterior:\n",
        "             decrescente = False\n",
        "         digAnterior = digito\n",
        "         n = n // 10\n",
        "\n",
        "     if decrescente:\n",
        "         print (\"O numero digitado eh descrescente\")\n",
        "     else:\n",
        "         print (\"O numero digitado NAO eh descrescente\")\n",
        "   ```\n",
        "\n",
        "   Modifique o programa acima para contar quantos números decrescentes existem até 10000 (inclusive)."
      ],
      "metadata": {
        "id": "m28QG3n3v9UU"
      }
    },
    {
      "cell_type": "code",
      "execution_count": null,
      "metadata": {
        "id": "NovXLr6Vu7UR",
        "colab": {
          "base_uri": "https://localhost:8080/"
        },
        "outputId": "6b33f664-6dbf-45c2-9a62-3b96d75218ec"
      },
      "outputs": [
        {
          "output_type": "stream",
          "name": "stdout",
          "text": [
            "A quantidade de números decrescentes até 10000 é 997.\n"
          ]
        }
      ],
      "source": [
        "# Inicializando a variável de contagem da quantidade de números decrescentes\n",
        "quantidade = 0\n",
        "\n",
        "# Aplicando o algoritmo fornecido com todos os números entre 1 e 10000 e\n",
        "# contabilizando, na variável \"quantidade\", quando o número atualmente\n",
        "# testado for decrescente\n",
        "for numero in range(1, 10000 + 1):\n",
        "    decrescente = True\n",
        "    digito_anterior = 0\n",
        "    while (numero > 0):\n",
        "        digito = numero % 10\n",
        "        if (digito < digito_anterior):\n",
        "            decrescente = False\n",
        "        digito_anterior = digito\n",
        "        numero //= 10\n",
        "    if (decrescente):\n",
        "        quantidade += 1\n",
        "\n",
        "# Apresentando quantidade obtida\n",
        "print(f\"A quantidade de números decrescentes até 10000 é {quantidade}.\")"
      ]
    },
    {
      "cell_type": "markdown",
      "source": [
        "2.   Com base na questão 1, desenvolva um programa que some os números até 10000 (inclusive)n que não são nem crescentes, nem decrescentes."
      ],
      "metadata": {
        "id": "Es9dJhE8yH--"
      }
    },
    {
      "cell_type": "code",
      "source": [
        "# Inicializando a variável de soma dos números que não são nem crescentes\n",
        "# e nem decrescentes\n",
        "soma = 0\n",
        "\n",
        "# Aplicando o algoritmo fornecido com todos os números entre 1 e 10000\n",
        "for numero in range(1, 10000 + 1):\n",
        "    temp = numero\n",
        "    crescente = True\n",
        "    decrescente = True\n",
        "    digito_anterior = 0\n",
        "    while (temp > 0):\n",
        "        digito = temp % 10\n",
        "        if (digito > digito_anterior):\n",
        "            crescente = False\n",
        "        if (digito < digito_anterior):\n",
        "            decrescente = False\n",
        "        digito_anterior = digito\n",
        "        temp //= 10\n",
        "\n",
        "    # Somando o número atualmente testado na variável \"soma\" se o mesmo\n",
        "    # for maior que 99 (pois os números menores ou iguais a 99 são\n",
        "    # crescentes ou decrescentes) e se não for crescente e nem decrescente\n",
        "    if (numero > 99 and crescente == decrescente):\n",
        "        soma += numero\n",
        "\n",
        "# Apresentando soma final\n",
        "print(f\"A soma dos números que não são crescentes nem decrescentes até 10000 é {soma}.\")"
      ],
      "metadata": {
        "id": "D8xojKVvyTtQ",
        "colab": {
          "base_uri": "https://localhost:8080/"
        },
        "outputId": "b13b1a95-a9f0-458e-d207-82aa85953d94"
      },
      "execution_count": null,
      "outputs": [
        {
          "output_type": "stream",
          "name": "stdout",
          "text": [
            "A soma dos números que não são crescentes nem decrescentes até 10000 é 44270028.\n"
          ]
        }
      ]
    },
    {
      "cell_type": "markdown",
      "source": [
        "3.   Desenvolva um programa que calcula a raiz quadrada de um número (K) informado, empregando a fórmula de Newton-Raphson, assim definida.\n",
        "\n",
        "   a.   A primeira aproximação da raiz quadrada é dada por K/2\n",
        "\n",
        "   b.   As aproximações seguintes são baseadas sempre na anterior: `aproxAtual = aproxAnt – (AproxAnt**2 - K) / (2 * aproxAnt)`\n",
        "\n",
        "   O processo deve ser repetido até que a diferença entre a aproximação atual e a anterior seja pequena; para esse exemplo, considere 0.1."
      ],
      "metadata": {
        "id": "V-qUJ4fByTL6"
      }
    },
    {
      "cell_type": "code",
      "source": [
        "# Solicitando um número e, se não for válido, solicitando novamente\n",
        "numero_valido = False\n",
        "while (not numero_valido):\n",
        "    numero_k = float(input(\"Digite um número: \"))\n",
        "    if (numero_k > 0):\n",
        "        numero_valido = True\n",
        "    else:\n",
        "        print(\"Digite um número válido!\\n\")\n",
        "\n",
        "# Aplicando a fórmula fornecida para cálculo de raíz quadrada com o número\n",
        "# obtido anteriormente até que a diferença entre as aproximações sejam\n",
        "# menores ou iguais a 0.1\n",
        "aproximacao_anterior = numero_k\n",
        "aproximacao_atual = numero_k / 2\n",
        "while (aproximacao_anterior - aproximacao_atual > 0.1):\n",
        "    aproximacao_anterior = aproximacao_atual\n",
        "    aproximacao_atual = aproximacao_anterior - (((aproximacao_anterior ** 2) - numero_k) / (2 * aproximacao_anterior))\n",
        "\n",
        "# Apresentando resultado aproximado\n",
        "print(f\"A raíz quadrada de {numero_k} é, aproximadamente, {aproximacao_atual}.\")"
      ],
      "metadata": {
        "id": "4t0qamzFzDM5",
        "colab": {
          "base_uri": "https://localhost:8080/"
        },
        "outputId": "cdec52ed-9f1f-4428-a44b-f2d4620de1f7"
      },
      "execution_count": null,
      "outputs": [
        {
          "output_type": "stream",
          "name": "stdout",
          "text": [
            "Digite um número: 20\n",
            "A raíz quadrada de 20.0 é, aproximadamente, 4.472137791286727.\n"
          ]
        }
      ]
    },
    {
      "cell_type": "markdown",
      "source": [
        "4.   Faça um jogo em que o programa tem que gerar um número aleatório entre 1 e 1000. Ao usuário é solicitado que digite sucessivamente tentativas, até acertar.\n",
        "\n",
        "   Para cada tentativa o programa deve dizer que a tentativa está acima ou abaixo do número esperado."
      ],
      "metadata": {
        "id": "XHCxMPhOzDgs"
      }
    },
    {
      "cell_type": "code",
      "source": [
        "from random import randint\n",
        "\n",
        "# Gerando número aleatório\n",
        "numero_aleatorio = randint(1, 1000)\n",
        "\n",
        "# Apresentando informações do jogo\n",
        "print(\"-> Jogo de descobrir o número v1.0 <-\")\n",
        "print(f\"\\nGerei um número aleatório entre 1 e 1000. Será que você consegue descobrir qual é?\\n\")\n",
        "\n",
        "# Solicitando tentativas até que o jogador acerte o número aleatório\n",
        "acertou = False\n",
        "while (not acertou):\n",
        "    # Solicitando tentativa do jogador e, se não for um número válido,\n",
        "    # solicitando novamente\n",
        "    numero_valido = False\n",
        "    while (not numero_valido):\n",
        "        tentativa = int(input(f\"Digite sua tentativa: \"))\n",
        "        if (tentativa > 0 or tentativa <= 1000):\n",
        "            numero_valido = True\n",
        "        else:\n",
        "            print(\"Digite um número válido!\")\n",
        "\n",
        "    # Testando se o número foi acertado\n",
        "    if (tentativa == numero_aleatorio):\n",
        "        acertou = True\n",
        "    else:\n",
        "        # Informando que o jogador errou e fornecendo ajuda\n",
        "        print(\"Você errou! Tente novamente.\")\n",
        "        if (numero_aleatorio < tentativa):\n",
        "            print(f\"\\nDica: O número aleatório é menor.\")\n",
        "        else:\n",
        "            print(f\"\\nDica: O número aleatório é maior.\")\n",
        "\n",
        "# Informando que o jogador acertou e é fim de jogo\n",
        "print(\"\\nVocê acertou! Parabéns :)\")"
      ],
      "metadata": {
        "id": "g1nfiTHpzTb-",
        "colab": {
          "base_uri": "https://localhost:8080/"
        },
        "outputId": "f5bf5fcf-3071-4afe-8afa-0db7edf66f15"
      },
      "execution_count": null,
      "outputs": [
        {
          "output_type": "stream",
          "name": "stdout",
          "text": [
            "-> Jogo de descobrir o número v1.0 <-\n",
            "\n",
            "Gerei um número aleatório entre 1 e 1000. Será que você consegue descobrir qual é?\n",
            "\n",
            "Digite sua tentativa: 500\n",
            "Você errou! Tente novamente.\n",
            "\n",
            "Dica: O número aleatório é maior.\n",
            "Digite sua tentativa: 750\n",
            "Você errou! Tente novamente.\n",
            "\n",
            "Dica: O número aleatório é maior.\n",
            "Digite sua tentativa: 900\n",
            "Você errou! Tente novamente.\n",
            "\n",
            "Dica: O número aleatório é menor.\n",
            "Digite sua tentativa: 800\n",
            "\n",
            "Você acertou! Parabéns :)\n"
          ]
        }
      ]
    },
    {
      "cell_type": "markdown",
      "source": [
        "5.   No programa anterior procure não apenas dizer que o número tentato está acima ou abaixo do esperado, mas informe o intervalo em que o número está após a tentativa. Em outras palavras, considerando que o número oculto é 37 e na primeira tentativa o usuário informa 49, o programa deve informar: “o número está entre 1 e 49”; se logo depois o usuário tenta 23, o programa deve indicar: “o número está entre 23 e 49” e assim, sucessivamente. Ao final informe também quantas tentativas o usuário fez para acertar o número."
      ],
      "metadata": {
        "id": "uQUGOwh8zT2i"
      }
    },
    {
      "cell_type": "code",
      "source": [
        "from random import randint\n",
        "\n",
        "# Inicializando valores limite\n",
        "numero_minimo = 1\n",
        "numero_maximo = 1000\n",
        "\n",
        "# Gerando número aleatório\n",
        "numero_aleatorio = randint(numero_minimo, numero_maximo)\n",
        "\n",
        "# Apresentando informações do jogo\n",
        "print(\"-> Jogo de descobrir o número v2.0 <-\")\n",
        "print(f\"\\nGerei um número aleatório entre {numero_minimo} e {numero_maximo}. Será que você consegue descobrir qual é?\\n\")\n",
        "\n",
        "# Solicitando e contabilizando tentativas até que o jogador acerte o\n",
        "# número aleatório\n",
        "numero_tentativa = 1\n",
        "acertou = False\n",
        "while (not acertou):\n",
        "    # Solicitando tentativa do jogador e, se não for um número válido,\n",
        "    # solicitando novamente\n",
        "    numero_valido = False\n",
        "    while (not numero_valido):\n",
        "        tentativa = int(input(f\"Digite sua tentativa: \"))\n",
        "        if (tentativa > 0 or tentativa <= 1000):\n",
        "            numero_valido = True\n",
        "        else:\n",
        "            print(\"Digite um número válido!\")\n",
        "\n",
        "    # Testando se o número foi acertado\n",
        "    if (tentativa == numero_aleatorio):\n",
        "        acertou = True\n",
        "    else:\n",
        "        # Informando que o jogador errou, fornecendo ajuda e contablizando\n",
        "        # tentativa\n",
        "        print(\"Você errou! Tente novamente.\")\n",
        "        if (numero_aleatorio < tentativa):\n",
        "            numero_maximo = tentativa\n",
        "        else:\n",
        "            numero_minimo = tentativa\n",
        "        print(f\"\\nDica: O número aleatório está entre {numero_minimo} e {numero_maximo}.\")\n",
        "        numero_tentativa += 1\n",
        "\n",
        "# Informando que o jogador acertou e é fim de jogo\n",
        "print(f\"\\nVocê acertou na sua {numero_tentativa}ª tentativa! Parabéns :)\")"
      ],
      "metadata": {
        "id": "KqWN0TPgze-R",
        "colab": {
          "base_uri": "https://localhost:8080/"
        },
        "outputId": "7fc971f2-c9f1-4ec6-92de-653f40a6326f"
      },
      "execution_count": null,
      "outputs": [
        {
          "output_type": "stream",
          "name": "stdout",
          "text": [
            "-> Jogo de descobrir o número v2.0 <-\n",
            "\n",
            "Gerei um número aleatório entre 1 e 1000. Será que você consegue descobrir qual é?\n",
            "\n",
            "Digite sua tentativa: 500\n",
            "Você errou! Tente novamente.\n",
            "\n",
            "Dica: O número aleatório está entre 1 e 500.\n",
            "Digite sua tentativa: 250\n",
            "Você errou! Tente novamente.\n",
            "\n",
            "Dica: O número aleatório está entre 1 e 250.\n",
            "Digite sua tentativa: 200\n",
            "Você errou! Tente novamente.\n",
            "\n",
            "Dica: O número aleatório está entre 1 e 200.\n",
            "Digite sua tentativa: 100\n",
            "Você errou! Tente novamente.\n",
            "\n",
            "Dica: O número aleatório está entre 100 e 200.\n",
            "Digite sua tentativa: 150\n",
            "Você errou! Tente novamente.\n",
            "\n",
            "Dica: O número aleatório está entre 100 e 150.\n",
            "Digite sua tentativa: 125\n",
            "Você errou! Tente novamente.\n",
            "\n",
            "Dica: O número aleatório está entre 125 e 150.\n",
            "Digite sua tentativa: 140\n",
            "Você errou! Tente novamente.\n",
            "\n",
            "Dica: O número aleatório está entre 125 e 140.\n",
            "Digite sua tentativa: 130\n",
            "Você errou! Tente novamente.\n",
            "\n",
            "Dica: O número aleatório está entre 130 e 140.\n",
            "Digite sua tentativa: 135\n",
            "Você errou! Tente novamente.\n",
            "\n",
            "Dica: O número aleatório está entre 130 e 135.\n",
            "Digite sua tentativa: 134\n",
            "\n",
            "Você acertou na sua 10ª tentativa! Parabéns :)\n"
          ]
        }
      ]
    }
  ]
}