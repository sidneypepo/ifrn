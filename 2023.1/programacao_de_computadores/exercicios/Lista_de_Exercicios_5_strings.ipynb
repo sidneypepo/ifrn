{
  "nbformat": 4,
  "nbformat_minor": 0,
  "metadata": {
    "colab": {
      "provenance": []
    },
    "kernelspec": {
      "name": "python3",
      "display_name": "Python 3"
    },
    "language_info": {
      "name": "python"
    }
  },
  "cells": [
    {
      "cell_type": "markdown",
      "source": [
        "Lista de Exercícios IV - Usando a linguagem de programação Python (versão 3.X)\n",
        "\n",
        "**Professor:** Galileu Batista  \n",
        "**Aluno:** Sidney Pedro\n",
        "\n",
        "---"
      ],
      "metadata": {
        "id": "nwx7H26JvyCb"
      }
    },
    {
      "cell_type": "markdown",
      "source": [
        "1.   Faça um programa que leia o nome completo de um aluno e as notas dele em uma disciplina, no primeiro e segundo bimestre. |Calcule a “média” segundo o critério do IFRN (60% - peso do segundo bimeste; e, 40% - peso do primeiro). Imprima o primeiro nome do aluno com apenas a primeira letra maiúscula e as demais minúsculas, seguido da “média” com cinco posições alinhadas à direita e uma casa decimal. Repita o processo para vários alunos, até que o nome lido seja vazio.\n",
        "\n",
        "   Dica:\n",
        "   1. \"Gio Camila\".find(\" \") retorna 3, ou seja a posição do espaço.\n",
        "   2. \"TiagoBatista\".find(\" \") retorna -1, indicando que não há espaço."
      ],
      "metadata": {
        "id": "WXyxzqkdv1h3"
      }
    },
    {
      "cell_type": "code",
      "execution_count": null,
      "metadata": {
        "id": "yGQzhflyvt6G",
        "colab": {
          "base_uri": "https://localhost:8080/"
        },
        "outputId": "4c047d5e-5604-4b08-b8bc-7f4bf5878abd"
      },
      "outputs": [
        {
          "name": "stdout",
          "output_type": "stream",
          "text": [
            "Digite seu nome completo: sidney pedro\n",
            "Digite sua nota do primeiro bimestre: 8\n",
            "Digite sua nota do segundo bimestre: 9\n",
            "Sidney:  8.6\n",
            "\n",
            "Digite seu nome completo: iuri da silva\n",
            "Digite sua nota do primeiro bimestre: 9\n",
            "Digite sua nota do segundo bimestre: 8\n",
            "Iuri:  8.4\n",
            "\n",
            "Digite seu nome completo: \n"
          ]
        }
      ],
      "source": [
        "nulo = False # Variável que controlará as repetições do programa\n",
        "\n",
        "# Loop que se repetirá solicitando nome e notas do aluno até que o nome\n",
        "# digitado pelo usuário for \"nulo\"\n",
        "while (not nulo):\n",
        "    nome = input(\"Digite seu nome completo: \")\n",
        "    # Se o nome digitado for \"nulo\", mude a variável \"nulo\" para True, para\n",
        "    # encerrar o loop\n",
        "    if (nome == ''):\n",
        "        nulo = True\n",
        "    else:\n",
        "        # Solicitando notas do aluno\n",
        "        primeiro_bimestre = float(input(\"Digite sua nota do primeiro bimestre: \"))\n",
        "        segundo_bimestre = float(input(\"Digite sua nota do segundo bimestre: \"))\n",
        "\n",
        "        # Calculando média com as notas do aluno\n",
        "        media = ((primeiro_bimestre * 4) + (segundo_bimestre * 6)) / 10\n",
        "\n",
        "        # Se o nome digitado for composto, é armazenado somente o primeiro\n",
        "        # nome, com a letra inicial maiúscula\n",
        "        if (nome.find(\" \") != -1):\n",
        "            nome = nome[0:nome.find(\" \")].capitalize()\n",
        "        else:\n",
        "            nome = nome.capitalize()\n",
        "\n",
        "        # Apresentado nome e média do aluno, com 5 espaços, alinhado à direita\n",
        "        print(f\"{nome}:{media:>5.1f}\\n\")"
      ]
    },
    {
      "cell_type": "markdown",
      "source": [
        "2.   Faça um programa que receba um string e o imprima na ordem reversa. Não use o comando meu_string[::-1]."
      ],
      "metadata": {
        "id": "gSLFGrvt_WzX"
      }
    },
    {
      "cell_type": "code",
      "source": [
        "# Recebendo string do usuário\n",
        "string = input(\"Digite uma string: \")\n",
        "\n",
        "# Apresentando todos os caracteres da string, do último para o primeiro\n",
        "for caractere in range(len(string) - 1, -1, -1):\n",
        "    print(string[caractere], end='')"
      ],
      "metadata": {
        "colab": {
          "base_uri": "https://localhost:8080/"
        },
        "id": "WYuA3yjP_eoO",
        "outputId": "cef88eff-0416-4476-8878-5f3f3ff32b50"
      },
      "execution_count": null,
      "outputs": [
        {
          "output_type": "stream",
          "name": "stdout",
          "text": [
            "Digite uma string: Hello, world!\n",
            "!dlrow ,olleH"
          ]
        }
      ]
    },
    {
      "cell_type": "markdown",
      "source": [
        "3.   Faça um programa que receba um string, elimine os símbolos de pontuação e espaços; Depois troque as letras com símbolos (a, e, i, o, u e c) por suas respectivas versões sem símbolos. Após essas operações, diga se o resultado é um palíndromo.\n",
        "\n",
        "   Dica:\n",
        "   1. `\"a\".isalpha()` retorna `True`, pois trata-se de uma letra (alfabética);\n",
        "   2. `','.isalpha()` retorna `False`; trata-se de um número;\n",
        "   3. Gere um novo string somente com as letras e verfique se é palíndromo."
      ],
      "metadata": {
        "id": "9y6Wdba1_fmG"
      }
    },
    {
      "cell_type": "code",
      "source": [
        "# Obtendo string do usuário e armazenando tamanho da mesma\n",
        "string = input(\"Digite uma string: \")\n",
        "tamanho = len(string)\n",
        "\n",
        "# Analisando cada caractere da string e aplicando mudanças quando necessário\n",
        "index = 0\n",
        "while (index < tamanho):\n",
        "    # Se o caractere atual não for alfanumérico, o mesmo é removido da string\n",
        "    if (not string[index].isalpha()):\n",
        "        string = string[:index] + string[index + 1:]\n",
        "        index += 1\n",
        "    # Se o caractere atual for alfanumérico, mas for acentuado, o mesmo é\n",
        "    # substituído por um caractere igual, porém sem acento\n",
        "    else:\n",
        "        if (string[index] == 'á' or string[index] == 'à' or string[index] == 'ã'):\n",
        "            string = string[:index] + 'a' + string[index + 1:]\n",
        "        elif (string[index] == 'é' or string[index] == 'è' or string[index] == 'ẽ'):\n",
        "            string = string[:index] + 'e' + string[index + 1:]\n",
        "        elif (string[index] == 'í' or string[index] == 'ì' or string[index] == 'ĩ'):\n",
        "            string = string[:index] + 'i' + string[index + 1:]\n",
        "        elif (string[index] == 'ó' or string[index] == 'ò' or string[index] == 'õ'):\n",
        "            string = string[:index] + 'o' + string[index + 1:]\n",
        "        elif (string[index] == 'ú' or string[index] == 'ù' or string[index] == 'ũ'):\n",
        "            string = string[:index] + 'u' + string[index + 1:]\n",
        "        elif (string[index] == 'ç'):\n",
        "            string = string[:index] + 'c' + string[index + 1:]\n",
        "    index += 1\n",
        "\n",
        "# Atualizando tamanho da nova string (sendo ou não modificada)\n",
        "tamanho = len(string)\n",
        "\n",
        "# Testando se os caracteres da string são idênticos, do início até a metade\n",
        "# e do fim até a metade da string. Se algum não for, a string analisada\n",
        "# não é um palíndromo\n",
        "palindromo = True\n",
        "for index in range(tamanho // 2):\n",
        "    if (string[index] != string[(tamanho - 1) - index]):\n",
        "        palindromo = False\n",
        "\n",
        "# Apresentando se a string analisada é ou não um palíndromo\n",
        "print(f\"\\\"{string}\\\" \", end='')\n",
        "if (not palindromo):\n",
        "    print(\"não \", end='')\n",
        "print(\"é um palíndromo.\")"
      ],
      "metadata": {
        "colab": {
          "base_uri": "https://localhost:8080/"
        },
        "id": "c80ewvFI_2cu",
        "outputId": "adac6c71-a69c-4985-88c8-f1614e268639"
      },
      "execution_count": null,
      "outputs": [
        {
          "output_type": "stream",
          "name": "stdout",
          "text": [
            "Digite uma string: sùús\n",
            "\"suus\" é um palíndromo.\n"
          ]
        }
      ]
    },
    {
      "cell_type": "markdown",
      "source": [
        "4.   Faça um programa que conta e imprime quantas vezes cada vogal minúscula aparece em um texto de entrada."
      ],
      "metadata": {
        "id": "d_twIzsw_3Y-"
      }
    },
    {
      "cell_type": "code",
      "source": [
        "# Obtendo string do usuário\n",
        "string = input(\"Digite uma string: \")\n",
        "\n",
        "# Inicializando variáveis para armazenar o total de cada vogais que estão\n",
        "# presentes na string obtida\n",
        "b = 0\n",
        "c = 0\n",
        "d = 0\n",
        "f = 0\n",
        "g = 0\n",
        "h = 0\n",
        "j = 0\n",
        "k = 0\n",
        "l = 0\n",
        "m = 0\n",
        "n = 0\n",
        "p = 0\n",
        "q = 0\n",
        "r = 0\n",
        "s = 0\n",
        "t = 0\n",
        "v = 0\n",
        "w = 0\n",
        "x = 0\n",
        "y = 0\n",
        "z = 0\n",
        "\n",
        "# Analisando cada caractere da string e, se for uma vogal, será adicionado\n",
        "# 1 à variável correspondente à letra digitada\n",
        "for letra in string:\n",
        "    if (letra.lower() == 'b'):\n",
        "        b += 1\n",
        "    elif (letra.lower() == 'c' or letra.lower() == 'ç'):\n",
        "        c += 1\n",
        "    elif (letra.lower() == 'd'):\n",
        "        d += 1\n",
        "    elif (letra.lower() == 'f'):\n",
        "        f += 1\n",
        "    elif (letra.lower() == 'g'):\n",
        "        g += 1\n",
        "    elif (letra.lower() == 'h'):\n",
        "        h += 1\n",
        "    elif (letra.lower() == 'j'):\n",
        "        j += 1\n",
        "    elif (letra.lower() == 'k'):\n",
        "        k += 1\n",
        "    elif (letra.lower() == 'l'):\n",
        "        l += 1\n",
        "    elif (letra.lower() == 'm'):\n",
        "        m += 1\n",
        "    elif (letra.lower() == 'n'):\n",
        "        n += 1\n",
        "    elif (letra.lower() == 'p'):\n",
        "        p += 1\n",
        "    elif (letra.lower() == 'q'):\n",
        "        q += 1\n",
        "    elif (letra.lower() == 'r'):\n",
        "        r += 1\n",
        "    elif (letra.lower() == 's'):\n",
        "        s += 1\n",
        "    elif (letra.lower() == 't'):\n",
        "        t += 1\n",
        "    elif (letra.lower() == 'v'):\n",
        "        v += 1\n",
        "    elif (letra.lower() == 'w'):\n",
        "        w += 1\n",
        "    elif (letra.lower() == 'x'):\n",
        "        x += 1\n",
        "    elif (letra.lower() == 'y'):\n",
        "        y += 1\n",
        "    elif (letra.lower() == 'z'):\n",
        "        z += 1\n",
        "\n",
        "# Apresentando quantidade de cada vogal presente na string analisada\n",
        "print(f\"\\n* Quantidade de vogais na string \\\"{string}\\\":\")\n",
        "print(f\"b = {b}\")\n",
        "print(f\"c = {c}\")\n",
        "print(f\"d = {d}\")\n",
        "print(f\"f = {f}\")\n",
        "print(f\"q = {g}\")\n",
        "print(f\"h = {h}\")\n",
        "print(f\"j = {j}\")\n",
        "print(f\"k = {k}\")\n",
        "print(f\"l = {l}\")\n",
        "print(f\"m = {m}\")\n",
        "print(f\"n = {n}\")\n",
        "print(f\"p = {p}\")\n",
        "print(f\"q = {q}\")\n",
        "print(f\"r = {r}\")\n",
        "print(f\"s = {s}\")\n",
        "print(f\"t = {t}\")\n",
        "print(f\"v = {v}\")\n",
        "print(f\"w = {w}\")\n",
        "print(f\"x = {x}\")\n",
        "print(f\"y = {y}\")\n",
        "print(f\"z = {z}\")"
      ],
      "metadata": {
        "id": "Nfa4vTpK_5zf",
        "colab": {
          "base_uri": "https://localhost:8080/"
        },
        "outputId": "33622f50-1ef4-4b8d-ad89-f9b2e20462e3"
      },
      "execution_count": null,
      "outputs": [
        {
          "output_type": "stream",
          "name": "stdout",
          "text": [
            "Digite uma string: Hello, world!\n",
            "\n",
            "* Quantidade de vogais na string \"Hello, world!\":\n",
            "b = 0\n",
            "c = 0\n",
            "d = 1\n",
            "f = 0\n",
            "q = 0\n",
            "h = 1\n",
            "j = 0\n",
            "k = 0\n",
            "l = 3\n",
            "m = 0\n",
            "n = 0\n",
            "p = 0\n",
            "q = 0\n",
            "r = 1\n",
            "s = 0\n",
            "t = 0\n",
            "v = 0\n",
            "w = 1\n",
            "x = 0\n",
            "y = 0\n",
            "z = 0\n"
          ]
        }
      ]
    },
    {
      "cell_type": "markdown",
      "source": [
        "5.   Faça um programa de cifragem de texto. Ele deve receber um string e um número. Todos os caracteres do string devem ser somados do valor do dígito.\n",
        "\n",
        "   Por exemplo:\n",
        "\n",
        "   Se o texto for: \"Gio Camila\" e o número for 1;\n",
        "\n",
        "   O programa deve imprimir: 'Hjp Dbnjmb' (cada letra foi adicionada de uma)\n",
        "\n",
        "   Dica:\n",
        "   1. Cada caractere tem um valor inteiro associado. Exemplo, o valor do 'a' é 97, o do 'b' é 98, o do 'c' é 99 e assim por diante; Esses números são denominados de valores ASCII daqueles caracteres;\n",
        "   2. Para saber o valor ASCII associado do 'a', use `ord('a')`\n",
        "   3. É possível converter um valor inteiro para o respectivo caractere. Assim\n",
        "`chr(98)` retorna 'b', haja vista que o valor ASCII do 'b' é 98."
      ],
      "metadata": {
        "id": "dvnBsU6F_7Fn"
      }
    },
    {
      "cell_type": "code",
      "source": [
        "# Solicitando e armazenando texto e número do usuário\n",
        "texto = input(\"Digite um texto: \")\n",
        "numero = int(input(\"Digite um número: \"))\n",
        "\n",
        "# Inicializando variável para armazenar a string resultante da cifração\n",
        "resultado = ''\n",
        "\n",
        "# Obtendo valor ASCII de cada caractere do texto, somando com o número\n",
        "# digitado pelo usuário, convertendo o valor resultado no novo caractere e\n",
        "# o adicionado à variável de resultado\n",
        "for caractere in texto:\n",
        "    if caractere != ' ':\n",
        "        resultado += chr(ord(caractere) + numero)\n",
        "    else:\n",
        "        resultado += ' '\n",
        "\n",
        "# Apresentando texto cifrado\n",
        "print(f\"\\nResultado: \\\"{resultado}\\\".\")"
      ],
      "metadata": {
        "id": "JyACt17BAbSG",
        "colab": {
          "base_uri": "https://localhost:8080/"
        },
        "outputId": "da78a18a-d724-4da0-f226-3104dc0781ae"
      },
      "execution_count": null,
      "outputs": [
        {
          "output_type": "stream",
          "name": "stdout",
          "text": [
            "Digite um texto: Gio Camila\n",
            "Digite um número: 1\n",
            "\n",
            "Resultado: \"Hjp Dbnjmb\".\n"
          ]
        }
      ]
    },
    {
      "cell_type": "markdown",
      "source": [
        "6.   Faça o respectivo programa de decifragem, que recebe o texto cifrado e um dígito. Imprima o texto decifrado."
      ],
      "metadata": {
        "id": "kpqZiQpgAc7d"
      }
    },
    {
      "cell_type": "code",
      "source": [
        "# Solicitando e armazenando texto cifrado e número do usuário\n",
        "cifra = input(\"Digite o texto cifrado: \")\n",
        "numero = int(input(\"Digite um número: \"))\n",
        "\n",
        "# Inicializando variável para armazenar a string resultante da decifração\n",
        "resultado = ''\n",
        "\n",
        "# Obtendo valor ASCII de cada caractere da cifra, subtraindo com o número\n",
        "# digitado pelo usuário, convertendo o valor resultado no novo caractere e\n",
        "# o adicionado à variável de resultado\n",
        "for caractere in cifra:\n",
        "    if caractere != ' ':\n",
        "        resultado += chr(ord(caractere) - numero)\n",
        "    else:\n",
        "        resultado += ' '\n",
        "\n",
        "# Apresentando texto decifrado\n",
        "print(f\"\\nResultado: \\\"{resultado}\\\".\")"
      ],
      "metadata": {
        "id": "kSo6y8RaAiC2",
        "colab": {
          "base_uri": "https://localhost:8080/"
        },
        "outputId": "f88129f2-22d6-4a14-ad7a-22abf407cb44"
      },
      "execution_count": null,
      "outputs": [
        {
          "output_type": "stream",
          "name": "stdout",
          "text": [
            "Digite o texto cifrado: Hjp Dbnjmb\n",
            "Digite um número: 1\n",
            "\n",
            "Resultado: \"Gio Camila\".\n"
          ]
        }
      ]
    },
    {
      "cell_type": "markdown",
      "source": [
        "7.   Receba um texto como entrada. Se a última \"palavra\" for \"HTTP/1.1\" imprima \"Protocolo Correto\", caso contrário imprima: a última palavra da entrada, seguida de \"501 ERRO\"."
      ],
      "metadata": {
        "id": "xCL7zTUPAjD_"
      }
    },
    {
      "cell_type": "code",
      "source": [
        "# Solicitando texto do usuário\n",
        "texto = input(\"Digite um texto: \")\n",
        "\n",
        "# Inicializando variável temporária para armazenar e testar onde há espaços\n",
        "# no texto digitado\n",
        "temp = 0\n",
        "\n",
        "# Armazenando índice do último espaço encontrado e buscando pelo índice do\n",
        "# próximo até chegar ao fim do texto\n",
        "while (temp != -1):\n",
        "    ultimo_espaco = temp\n",
        "    temp = texto.find(' ', temp + 1)\n",
        "\n",
        "# Se, a partir do último espaço do texto, haver a string \"HTTP/1.1\",\n",
        "# apresenta que o protocolo está correto e, se não, apresenta \"501 ERRO\"\n",
        "if (texto[ultimo_espaco + 1:] == \"HTTP/1.1\"):\n",
        "    print(\"Protocolo Correto\")\n",
        "else:\n",
        "    print(f\"{texto[ultimo_espaco + 1:]} 501 ERRO\")"
      ],
      "metadata": {
        "id": "FbeD6_KlAtg_",
        "colab": {
          "base_uri": "https://localhost:8080/"
        },
        "outputId": "be097afc-24fa-4117-ede5-487b72b59b4e"
      },
      "execution_count": null,
      "outputs": [
        {
          "output_type": "stream",
          "name": "stdout",
          "text": [
            "Digite um texto: index.html HTTP/1.1\n",
            "Protocolo Correto\n"
          ]
        }
      ]
    },
    {
      "cell_type": "markdown",
      "source": [
        "8.   Modifique o programa anterior para exigir também que o texto de entrada tenha apenas três palavras e que a primeira seja \"GET\".\n",
        "\n",
        "   Assim, faça as seguintes validações nessa ordem:\n",
        "   * Se o o texto de entrada tiver três palavras, a primeira for \"GET\" e\n",
        "última for \"HTTP/1.1\", exiba \"200 OK\";\n",
        "   * Se não tiver três palavras, exiba \"502 ERRO\";\n",
        "   * Se não tiver \"HTTP/1.1\" na terceira palavra, exiba \"501 ERRO\";\n",
        "   * Se não tiver \"GET\" na primeira palavra, exiba \"502 ERRO\"."
      ],
      "metadata": {
        "id": "N47rDb4uAuRO"
      }
    },
    {
      "cell_type": "code",
      "source": [
        "# Solicitando texto do usuário\n",
        "texto = input(\"Digite um texto: \")\n",
        "\n",
        "# Inicializando variável temporária para armazenar e testar onde há espaços\n",
        "# no texto digitado\n",
        "temp = 0\n",
        "# Inicializando variável para contar quantas palavras há no texto\n",
        "palavras = 0\n",
        "\n",
        "# Armazenando índice do último espaço encontrado e buscando pelo índice do\n",
        "# próximo até chegar ao fim do texto\n",
        "while (temp != -1):\n",
        "    # Se a última palavra testada for a primeira do texto, ela será\n",
        "    # armazenada na variável \"primeira palavra\"\n",
        "    if (palavras == 1):\n",
        "        primeira_palavra = texto[:temp]\n",
        "    ultimo_espaco = temp\n",
        "    temp = texto.find(' ', temp + 1)\n",
        "    palavras += 1\n",
        "\n",
        "# Armazenando última palavra do texto\n",
        "ultima_palavra = texto[ultimo_espaco + 1:]\n",
        "\n",
        "# Apresentando mensagens de status com base na quantidade de palavras e/ou\n",
        "# conteúdo da primeira e/ou última palavra do texto\n",
        "if (palavras != 3 or primeira_palavra != \"GET\"):\n",
        "    print(\"502 ERRO\")\n",
        "elif (ultima_palavra != \"HTTP/1.1\"):\n",
        "    print(\"501 ERRO\")\n",
        "else:\n",
        "    print(\"200 OK\")"
      ],
      "metadata": {
        "id": "VFnkAraCBDqk",
        "colab": {
          "base_uri": "https://localhost:8080/"
        },
        "outputId": "71677278-97af-4931-a1dd-1dc51bc42104"
      },
      "execution_count": null,
      "outputs": [
        {
          "output_type": "stream",
          "name": "stdout",
          "text": [
            "Digite um texto: GET index.html HTTP/1.1\n",
            "200 OK\n"
          ]
        }
      ]
    }
  ]
}
