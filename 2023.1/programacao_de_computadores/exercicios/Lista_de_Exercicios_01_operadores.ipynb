{
  "nbformat": 4,
  "nbformat_minor": 0,
  "metadata": {
    "colab": {
      "provenance": []
    },
    "kernelspec": {
      "name": "python3",
      "display_name": "Python 3"
    },
    "language_info": {
      "name": "python"
    }
  },
  "cells": [
    {
      "cell_type": "markdown",
      "source": [
        "Lista de Exercícios I - Usando a linguagem de programação Python (versão 3.X)\n",
        "\n",
        "**Professor:** Galileu Batista  \n",
        "**Aluno:** Sidney Pedro\n",
        "\n",
        "---"
      ],
      "metadata": {
        "id": "YmxA3PC3wH-q"
      }
    },
    {
      "cell_type": "markdown",
      "source": [
        "1.   Dados o valor de uma conta em um restaurante (valor inteiro) e o valor do pagamento, apresente o número mínimo de cédulas e moedas que deve ser retornado como troco."
      ],
      "metadata": {
        "id": "UnUQVsR7wxSV"
      }
    },
    {
      "cell_type": "code",
      "execution_count": null,
      "metadata": {
        "colab": {
          "base_uri": "https://localhost:8080/"
        },
        "id": "J0nsd8ATv6gx",
        "outputId": "2584a20b-d05a-48db-d5c6-cc4bc6d69b8b"
      },
      "outputs": [
        {
          "output_type": "stream",
          "name": "stdout",
          "text": [
            "Qual o valor da conta a pagar? R$165.75\n",
            "Com quanto dinheiro você quer pagar a conta de R$165.75? R$200\n",
            "\n",
            "* Então teu troco é R$34.25 e uma maneira de pagar seu troco, é com:\n",
            "- 0.0 notas de R$200\n",
            "- 0.0 notas de R$100\n",
            "- 0.0 notas de R$50\n",
            "- 1.0 notas de R$20\n",
            "- 1.0 notas de R$10\n",
            "- 0.0 notas de R$5\n",
            "- 2.0 notas de R$2\n",
            "- 0.0 moedas de R$1\n",
            "- 0.0 moedas de R$0.50\n",
            "- 1.0 moedas de R$0.25\n",
            "- 0.0 moedas de R$0.10\n",
            "- 0.0 moedas de R$0.05\n"
          ]
        }
      ],
      "source": [
        "# Obtendo valores da conta e do pagamento\n",
        "conta = int(input(\"Qual o valor da conta a pagar? R$\"))\n",
        "pagamento = float(input(f\"Com quanto dinheiro você quer pagar a conta de R${conta:.2f}? R$\"))\n",
        "\n",
        "# A linha seguinte dispensa comentários\n",
        "troco = pagamento - conta\n",
        "\n",
        "# Calculando e apresentando quantas notas e moedas podem ser utilizadas\n",
        "# para pagar o troco da maneira mais exata possível\n",
        "print(f\"\\n* Então teu troco é R${troco:.2f} e uma maneira de pagar seu troco, é com:\")\n",
        "notas = troco // 200\n",
        "print(f\"- {notas} notas de R$200\")\n",
        "troco = troco % 200\n",
        "\n",
        "notas = troco // 100\n",
        "print(f\"- {notas} notas de R$100\")\n",
        "troco = troco % 100\n",
        "\n",
        "notas = troco // 50\n",
        "print(f\"- {notas} notas de R$50\")\n",
        "troco = troco % 50\n",
        "\n",
        "notas = troco // 20\n",
        "print(f\"- {notas} notas de R$20\")\n",
        "troco = troco % 20\n",
        "\n",
        "notas = troco // 10\n",
        "print(f\"- {notas} notas de R$10\")\n",
        "troco = troco % 10\n",
        "\n",
        "notas = troco // 5\n",
        "print(f\"- {notas} notas de R$5\")\n",
        "troco = troco % 5\n",
        "\n",
        "notas = troco // 2\n",
        "print(f\"- {notas} notas de R$2\")\n",
        "troco = troco % 2\n",
        "\n",
        "notas = troco // 1\n",
        "print(f\"- {notas} moedas de R$1\")\n",
        "troco = troco % 1\n",
        "\n",
        "notas = troco // 0.5\n",
        "print(f\"- {notas} moedas de R$0.50\")\n",
        "troco = troco % 0.5\n",
        "\n",
        "notas = troco // 0.25\n",
        "print(f\"- {notas} moedas de R$0.25\")\n",
        "troco = troco % 0.25\n",
        "\n",
        "notas = troco // 0.1\n",
        "print(f\"- {notas} moedas de R$0.10\")\n",
        "troco = troco % 0.1\n",
        "\n",
        "notas = troco // 0.05\n",
        "print(f\"- {notas} moedas de R$0.05\")"
      ]
    },
    {
      "cell_type": "markdown",
      "source": [
        "2.   Receba como entrada os coeficientes (inteiros) de uma equação de segundo grau: a, b e c, e apresente as raízes reais."
      ],
      "metadata": {
        "id": "h7-LHPRpxK6f"
      }
    },
    {
      "cell_type": "code",
      "source": [
        "from math import sqrt\n",
        "\n",
        "# Recebendo coeficientes\n",
        "a = int(input(\"Digite o valor de a: \"))\n",
        "b = int(input(\"Digite o valor de b: \"))\n",
        "c = int(input(\"Digite o valor de c: \"))\n",
        "\n",
        "# Calculando raízes\n",
        "delta = (b ** 2) - (4 * a * c)\n",
        "x1 = (-b + (sqrt(delta))) / (2 * a)\n",
        "x2 = (-b - (sqrt(delta))) / (2 * a)\n",
        "\n",
        "# Apresentando resultados\n",
        "print(f\"\\nx1 = {x1:.2f}\\nx2 = {x2:.2f}\")"
      ],
      "metadata": {
        "colab": {
          "base_uri": "https://localhost:8080/"
        },
        "id": "Dml-Duw7xVqO",
        "outputId": "ac916294-c65c-4031-d1bb-2388b8fe3140"
      },
      "execution_count": null,
      "outputs": [
        {
          "output_type": "stream",
          "name": "stdout",
          "text": [
            "Digite o valor de a: 1\n",
            "Digite o valor de b: 12\n",
            "Digite o valor de c: -13\n",
            "\n",
            "x1 = 1.00\n",
            "x2 = -13.00\n"
          ]
        }
      ]
    },
    {
      "cell_type": "markdown",
      "source": [
        "3.   A magia (ou pesadelo) dos juros compostos é que eles crescem que uma maneira inimaginável. Sabendo que o montante acumulado para um capital **c**, a uma taxa **i** (em porcentagem), por um tempo **t** é dado por:\n",
        "\n",
        "   `Montante = c . ( 1 + i / 100)^t`\n",
        "\n",
        "   Faça um programa que aceite os três parâmetros citados e informe o montante\n",
        "gerado pelo capital."
      ],
      "metadata": {
        "id": "ejzY6Hy54Qvj"
      }
    },
    {
      "cell_type": "code",
      "source": [
        "# Obtendo valores base\n",
        "capital = float(input(\"Digite o capital: R$\"))\n",
        "taxa = float(input(\"Digite a taxa ao mês (em porcentagem, de 0.00 - 100.00): \"))\n",
        "tempo = int(input(\"Digite a quantidade de tempo (em meses): \"))\n",
        "\n",
        "# Calculando montante por meio da equação fornecida\n",
        "montante = capital * ((1 + (taxa / 100)) ** tempo)\n",
        "\n",
        "# Apresentando montante\n",
        "print(f\"\\nO montante é de R${montante:.2f}.\")"
      ],
      "metadata": {
        "id": "sTuBXes747ZK",
        "colab": {
          "base_uri": "https://localhost:8080/"
        },
        "outputId": "c5bbeea5-056a-4d2c-b540-d63b6f8e5186"
      },
      "execution_count": null,
      "outputs": [
        {
          "output_type": "stream",
          "name": "stdout",
          "text": [
            "Digite o capital: R$1000\n",
            "Digite a taxa ao mês (em porcentagem, de 0.00 - 100.00): 0.5\n",
            "Digite a quantidade de tempo (em meses): 2\n",
            "\n",
            "O montante é de R$1010.02.\n"
          ]
        }
      ]
    },
    {
      "cell_type": "markdown",
      "source": [
        "4.   Usando os conceitos da questão 3 e sabendo que a taxa de juros (composto) do cartão de crédito é em torno de 12% ao mês, calcule o tempo em o valor de uma dívida de R\\$1000,00 se transforma em R\\$1.000.000,00\n",
        "\n",
        "     > Lembre: loga c = logb c / logb a\n",
        "\n",
        "     > Lembre: para usar log no python:\n",
        "\n",
        "     ``` python\n",
        "     import math\n",
        "     print (math.log(2, 10)) # imprime o log decimal de 2\n",
        "     ```"
      ],
      "metadata": {
        "id": "u-bGLSDu9J92"
      }
    },
    {
      "cell_type": "code",
      "source": [
        "from math import log\n",
        "\n",
        "# Definindo valores base\n",
        "divida = 1000\n",
        "taxa = 12\n",
        "montante = 1000000\n",
        "\n",
        "# Calculando tempo com base nos valores definidos anteriormente\n",
        "tempo = log((montante / divida)) / log((1 + (taxa / 100)))\n",
        "\n",
        "# Apresentando resultado\n",
        "print(f\"O tempo que a dívida de R${divida} se transformou em R${montante}, foi de {tempo:.2f} meses.\")"
      ],
      "metadata": {
        "id": "Ma5fvjQ-9KU2",
        "colab": {
          "base_uri": "https://localhost:8080/"
        },
        "outputId": "08a9bdd5-cde5-4058-f6e7-0fcfcf5ddea4"
      },
      "execution_count": null,
      "outputs": [
        {
          "output_type": "stream",
          "name": "stdout",
          "text": [
            "O tempo que a dívida de R$1000 se transformou em R$1000000, foi de 60.95 meses.\n"
          ]
        }
      ]
    },
    {
      "cell_type": "markdown",
      "source": [
        "5.   Em tempos de reforma da previdência, é fundamental ser previdente. Uma estratégia é aplicar um capital inicial **c** e todo mês fazer um novo depósito **d** que em conjunto (capital inicial e depósitos) renderão a uma taxa de juros mensal **i**. Após **n** meses, o saldo da conta será dado por:\n",
        "\n",
        "     `Saldo = c . (1 + i/100)^n + d . ((1 + i/100)^n – (1 + i/100)) / (i/100)`\n",
        "\n",
        "     Faça um programa que calcule o saldo, dados os quatro parâmetros. Teste várias situações, por exemplo: para uma aplicação inicial de 1000 e aporte mensal de 500, com taxa de 2%, depois de quantos anos o investidor terá 100000?"
      ],
      "metadata": {
        "id": "eYjy_PuCmVtW"
      }
    },
    {
      "cell_type": "code",
      "source": [
        "# Obtendo valores base\n",
        "capital = float(input(\"Digite o capital inicial: R$\"))\n",
        "deposito = float(input(\"Digite o depósito mensal: R$\"))\n",
        "taxa = float(input(\"Digite a taxa ao mês (em porcentagem, de 0.00 - 100.00): \"))\n",
        "tempo = int(input(\"Digite a quantidade de tempo (em meses): \"))\n",
        "\n",
        "# Calculando saldo por meio da equação fornecida\n",
        "saldo = ((capital * ((1 + (taxa / 100)) ** tempo)) + (deposito * ((1 + (taxa / 100)) ** tempo)) - (1 + (taxa / 100))) / (taxa / 100)\n",
        "\n",
        "# Apresentando saldo\n",
        "print(f\"\\nO saldo final será de R${saldo:.2f}.\")"
      ],
      "metadata": {
        "id": "aeHvPYizmxP4",
        "colab": {
          "base_uri": "https://localhost:8080/"
        },
        "outputId": "fe7b2907-5551-4790-beac-a77651a5dcae"
      },
      "execution_count": null,
      "outputs": [
        {
          "output_type": "stream",
          "name": "stdout",
          "text": [
            "Digite o capital inicial: R$1000\n",
            "Digite o depósito mensal: R$500\n",
            "Digite a taxa ao mês (em porcentagem, de 0.00 - 100.00): 2\n",
            "Digite a quantidade de tempo (em meses): 15\n",
            "\n",
            "O saldo final será de R$100889.13.\n"
          ]
        }
      ]
    },
    {
      "cell_type": "markdown",
      "source": [
        "6.   O ICMS pago pelo consumidor em um produto é em torno de 17%. As empresas recolhem esse valor ao longo da cadeia de produção/vendas. Assim, se uma empresa vende um produto por v, tendo comprado por c, ela só recolhe o imposto relativo à diferença. Faça um programa que aceita os valores de venda e compra de um produto e mostre o ICMS a ser recolhido pela empresa na operação."
      ],
      "metadata": {
        "id": "cRq-FNS7-Uvg"
      }
    },
    {
      "cell_type": "code",
      "source": [
        "# Obtendo valores\n",
        "aquisicao = float(input(\"Digite por quanto a empresa comprou o produto X: R$\"))\n",
        "venda = float(input(\"Digite por quanto a empresa vendeu o produto X: R$\"))\n",
        "\n",
        "# Calculando imposto a ser pago e lucro obtido\n",
        "diferenca = venda - aquisicao\n",
        "imposto = diferenca * 0.17\n",
        "lucro = diferenca - imposto\n",
        "\n",
        "# Apresentando resultados\n",
        "print(f\"\\n- Lucro bruto: R${diferenca:.2f};\\n- Lucro final: R${lucro:.2f};\\n- Imposto: R${imposto:.2f};\")"
      ],
      "metadata": {
        "id": "5EOhajv0-aYc",
        "colab": {
          "base_uri": "https://localhost:8080/"
        },
        "outputId": "8d46b46b-e52e-4672-86d7-28060a327c9e"
      },
      "execution_count": null,
      "outputs": [
        {
          "output_type": "stream",
          "name": "stdout",
          "text": [
            "Digite por quanto a empresa comprou o produto X: R$100\n",
            "Digite por quanto a empresa vendeu o produto X: R$150\n",
            "\n",
            "- Lucro bruto: R$50.00;\n",
            "- Lucro final: R$41.50;\n",
            "- Imposto: R$8.50;\n"
          ]
        }
      ]
    },
    {
      "cell_type": "markdown",
      "source": [
        "7.   Em 2016.2, o aluno Galileu, do curso de Gestão Pública do IFRN, foi\n",
        "surpreendido com a seguinte pergunta dos colegas. Quanto eu preciso tirar na última prova de “Matemática Financeira” para passar por média?\n",
        "\n",
        "     O professor da disciplina fez um trabalho e uma prova para cada uma das\n",
        "unidades. Para obter a nota de cada unidade, o trabalho tinha peso de 30% e a prova de 70%. Segundo os critérios do IFRN, a nota na disciplina é formada pela nota da primeira unidade (com peso 40%) e a nota da segunda unidade (com peso 60%); passa por média quem obtiver 6,0 ou mais.\n",
        "\n",
        "     Dadas as notas: **t1** (primeiro trabalho), **p1** (primeira prova) e **t2** (segundo trabalho), calcule a nota a obter na segunda prova para passar por média."
      ],
      "metadata": {
        "id": "GM5DOl0g-bPZ"
      }
    },
    {
      "cell_type": "code",
      "source": [
        "# Obtendo notas relativas\n",
        "t1 = float(input(\"Digite a nota do primeiro trabalho (de 0 a 10): \"))\n",
        "p1 = float(input(\"Digite a nota da primeira prova (de 0 a 10): \"))\n",
        "t2 = float(input(\"Digite a nota do segundo trabalho (de 0 a 10): \"))\n",
        "\n",
        "# Calculando notas absolutas e subtraindo a nota mínima para passar pela\n",
        "# soma das notas e dividindo o resultado por seu respectivo peso (6)\n",
        "# para obter a nota da segunda prova\n",
        "primeira_nota = ((t1 / 10) * 3) + ((p1 / 10) * 7)\n",
        "nota_faltando = (60 - (((primeira_nota * 4)) + ((((t2 / 10) * 3)) * 6))) / 6\n",
        "\n",
        "# Apresentando porcentagem de acertos e nota necessária para atingir a média\n",
        "print(f\"\\nGalileu precisa acertar pelo menos {((nota_faltando / 7) * 100):.2f}% da segunda prova para obter nota {nota_faltando:.2f}/7 e passar por média.\")"
      ],
      "metadata": {
        "id": "oVK0LH9q-o8f",
        "colab": {
          "base_uri": "https://localhost:8080/"
        },
        "outputId": "bf57b81b-fa93-4ea5-a7da-b704173d4e98"
      },
      "execution_count": null,
      "outputs": [
        {
          "output_type": "stream",
          "name": "stdout",
          "text": [
            "Digite a nota do primeiro trabalho (de 0 a 10): 8.5\n",
            "Digite a nota da primeira prova (de 0 a 10): 8\n",
            "Digite a nota do segundo trabalho (de 0 a 10): 9\n",
            "\n",
            "Galileu precisa acertar pelo menos 26.67% da segunda prova para obter nota 1.87/7 e passar por média.\n"
          ]
        }
      ]
    },
    {
      "cell_type": "markdown",
      "source": [
        "8.   Dados, o raio e a altura, desenvolva um programa que calcula o volume de um cilindro."
      ],
      "metadata": {
        "id": "Cqjxzye_-qV0"
      }
    },
    {
      "cell_type": "code",
      "source": [
        "from math import pi\n",
        "\n",
        "# Obtendo dados importantes\n",
        "raio = float(input(\"Digite o raio da base do cilindro: \"))\n",
        "altura = float(input(\"Digite a altura do cilindro: \"))\n",
        "\n",
        "# Calculando volume\n",
        "volume_cilindro = (((raio ** 2) * pi) * altura)\n",
        "\n",
        "# Apresentando resultado\n",
        "print(f\"\\nO volume do cilindro é {volume_cilindro:.2f}.\")"
      ],
      "metadata": {
        "id": "9wEAkk-R-249",
        "colab": {
          "base_uri": "https://localhost:8080/"
        },
        "outputId": "6c7397cd-d370-482c-fe78-169d7ce9d92c"
      },
      "execution_count": null,
      "outputs": [
        {
          "output_type": "stream",
          "name": "stdout",
          "text": [
            "Digite o raio da base do cilindro: 5\n",
            "Digite a altura do cilindro: 8\n",
            "\n",
            "O volume do cilindro é 628.32.\n"
          ]
        }
      ]
    },
    {
      "cell_type": "markdown",
      "source": [
        "9.   Uma família fez uma viagem de carro e quer detalhes sobre o desempenho do veículo. Faça um programa que **pergunta**: o tempo da viagem (em minutos), o número de litros de combustível gasto (em l), o preço do litro de combustível (em R$) e a distância percorrida (em Km); após isso **informa** dados típicos de um computador de bordo: a velocidade média (Km/h), o custo da viagem com combustível (em R\\$), o desempenho do carro (em Km/l, l/h e R\\$/Km)."
      ],
      "metadata": {
        "id": "wP-ZGxCN-3h2"
      }
    },
    {
      "cell_type": "code",
      "source": [
        "# Obtendo dados do usuário\n",
        "tempo_viagem = int(input(\"Digite a duração da viagem (em segundos): \"))\n",
        "combustivel_gasto = float(input(\"Digite quantos litros de combustível foram gastos na viagem: \"))\n",
        "preco_combustivel = float(input(\"Digite o preço do litro do combustível: R$\"))\n",
        "distancia = float(input(\"Digite quantos quilômetros foram percorridos: \"))\n",
        "\n",
        "# Calculando informações com base nos dados fornecidos anteriormente\n",
        "horas = tempo_viagem / 3600\n",
        "custo = combustivel_gasto * preco_combustivel\n",
        "velocidade = distancia / horas\n",
        "desempenho_km_l = distancia / combustivel_gasto\n",
        "desempenho_l_h = combustivel_gasto / horas\n",
        "desempenho_rs_km = custo / distancia\n",
        "\n",
        "# Apresentando para o usuário os resultados dos cálculos realizados\n",
        "print(\"\\n* Computador de bordo - Informações:\")\n",
        "print(f\"- Velocidade média: {velocidade:.2f} km/h;\")\n",
        "print(f\"- Gasto de combustível com a viagem: R${custo:.2f};\")\n",
        "print(f\"- Desempenho do carro: {desempenho_km_l:.2f} km/L, {desempenho_l_h:.2f} L/h e {desempenho_rs_km:.2f} R$/km;\")"
      ],
      "metadata": {
        "id": "W5JRd87b_EDb",
        "colab": {
          "base_uri": "https://localhost:8080/"
        },
        "outputId": "99fa59fc-afb2-400f-b54f-9601031a4fec"
      },
      "execution_count": null,
      "outputs": [
        {
          "output_type": "stream",
          "name": "stdout",
          "text": [
            "Digite a duração da viagem (em segundos): 4200\n",
            "Digite quantos litros de combustível foram gastos na viagem: 5\n",
            "Digite o preço do litro do combustível: R$5.65\n",
            "Digite quantos quilômetros foram percorridos: 65\n",
            "\n",
            "* Computador de bordo - Informações:\n",
            "- Velocidade média: 55.71 km/h;\n",
            "- Gasto de combustível com a viagem: R$28.25;\n",
            "- Desempenho do carro: 13.00 km/L, 4.29 L/h e 0.43 R$/km;\n"
          ]
        }
      ]
    }
  ]
}